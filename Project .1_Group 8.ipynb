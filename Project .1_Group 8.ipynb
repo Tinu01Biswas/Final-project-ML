{
 "cells": [
  {
   "cell_type": "markdown",
   "id": "04dc6dba-466b-4930-bad0-f4f84fee6108",
   "metadata": {},
   "source": [
    "# Project 1: Real -Time Election Results: Portugal 2019 \n",
    "\n",
    "# The 2019 Portuguese election dataset provides comprehensive information on electoral results across various territories. \n",
    "\n",
    "# Problem Statement:\n",
    "The 2019 Portuguese election dataset offers detailed insights into the electoral outcomes across various regions, with specific emphasis on the allocation of mandates and voter behavior. The core objective of this analysis is to leverage the dataset to develop a predictive model that can accurately forecast the final number of mandates (FinalMandates) assigned to each political party. \n",
    "\n",
    "# Key Goals:\n",
    "1. Predict Mandate Allocation: Develop a Random Forest Regressor model to accurately predict the final number of mandates (FinalMandates) for each party based on features such as blank votes, null votes, voter participation rates, and other electoral metrics.\n",
    "\n",
    "2. Feature Importance Analysis: Identify which features have the most significant impact on the mandate allocation. \n",
    "#Understanding feature importance will help in interpreting the model's predictions and gaining insights into the factors influencing mandate distribution.\n",
    "3. Model Performance Evaluation: Assess the performance of the Random Forest Regressor using appropriate metrics such as Mean Absolute Error (MAE), Mean Squared Error (MSE), and R-squared. Ensure that the model provides reliable and accurate predictions.\n",
    "#Data Exploration and Preprocessing: Conduct thorough data exploration and preprocessing to handle missing values, normalize features, and address any inconsistencies. Ensure the dataset is clean and suitable for training the Random Forest Regressor.\n",
    "\n",
    "# Data Description:\n",
    "#TimeElapsed: Time elapsed during the election process or counting phase.\n",
    "#time: Timestamp or time of day when the data was recorded.\n",
    "#territoryName: Name of the electoral territory or district.\n",
    "#totalMandates: Total number of mandates available in the territory.\n",
    "#availableMandates: Number of mandates available at the time of data recording.\n",
    "#numParishes: Total number of parishes in the territory.\n",
    "#numParishesApproved: Number of parishes where results have been approved or finalized.\n",
    "#blankVotes: Number of blank votes cast.\n",
    "#blankVotesPercentage: Percentage of blank votes relative to total votes.\n",
    "#nullVotes: Number of null votes cast.\n",
    "#nullVotesPercentage: Percentage of null votes relative to total votes.\n",
    "#votersPercentage: Percentage of registered voters who participated in the election.\n",
    "#subscribedVoters: Total number of voters registered in the territory.\n",
    "#totalVoters: Total number of voters who participated in the election.\n",
    "#pre.blankVotes: Number of blank votes recorded prior to the time of data capture.\n",
    "#pre.blankVotesPercentage: Percentage of blank votes recorded prior to the time of data capture.\n",
    "#pre.nullVotes: Number of null votes recorded prior to the time of data capture.\n",
    "#pre.nullVotesPercentage: Percentage of null votes recorded prior to the time of data capture.\n",
    "#pre.votersPercentage: Voter participation percentage recorded prior to the time of data capture.\n",
    "#pre.subscribedVoters: Number of voters registered prior to the time of data capture.\n",
    "#pre.totalVoters: Total number of voters who participated in the election prior to the time of data capture.\n",
    "#Party: Name of the political party.\n",
    "#Mandates: Number of mandates allocated to the party.\n",
    "#Percentage: Percentage of total mandates allocated to the party.\n",
    "#validVotesPercentage: Percentage of valid votes received by the party.\n",
    "#Votes: Total number of votes received by the party.\n",
    "#Hondt: Number of seats assigned to the party using the Hondt method.\n",
    "#FinalMandates: Final number of mandates allocated to the party after applying the Hondt method.\n"
   ]
  },
  {
   "cell_type": "code",
   "execution_count": 175,
   "id": "26c76971-054c-40e1-9b0f-51c623536400",
   "metadata": {},
   "outputs": [],
   "source": [
    "import pandas as pd # Importing the prominent library use in the data set\n",
    "df=pd.read_csv(\"D://Machine learning//Group assignment//election data.csv\") # Read the file"
   ]
  },
  {
   "cell_type": "code",
   "execution_count": 176,
   "id": "f76a9b3b-a280-4acc-8d1f-fa206c5e0080",
   "metadata": {},
   "outputs": [
    {
     "data": {
      "text/html": [
       "<div>\n",
       "<style scoped>\n",
       "    .dataframe tbody tr th:only-of-type {\n",
       "        vertical-align: middle;\n",
       "    }\n",
       "\n",
       "    .dataframe tbody tr th {\n",
       "        vertical-align: top;\n",
       "    }\n",
       "\n",
       "    .dataframe thead th {\n",
       "        text-align: right;\n",
       "    }\n",
       "</style>\n",
       "<table border=\"1\" class=\"dataframe\">\n",
       "  <thead>\n",
       "    <tr style=\"text-align: right;\">\n",
       "      <th></th>\n",
       "      <th>TimeElapsed</th>\n",
       "      <th>time</th>\n",
       "      <th>territoryName</th>\n",
       "      <th>totalMandates</th>\n",
       "      <th>availableMandates</th>\n",
       "      <th>numParishes</th>\n",
       "      <th>numParishesApproved</th>\n",
       "      <th>blankVotes</th>\n",
       "      <th>blankVotesPercentage</th>\n",
       "      <th>nullVotes</th>\n",
       "      <th>...</th>\n",
       "      <th>pre.votersPercentage</th>\n",
       "      <th>pre.subscribedVoters</th>\n",
       "      <th>pre.totalVoters</th>\n",
       "      <th>Party</th>\n",
       "      <th>Mandates</th>\n",
       "      <th>Percentage</th>\n",
       "      <th>validVotesPercentage</th>\n",
       "      <th>Votes</th>\n",
       "      <th>Hondt</th>\n",
       "      <th>FinalMandates</th>\n",
       "    </tr>\n",
       "  </thead>\n",
       "  <tbody>\n",
       "    <tr>\n",
       "      <th>0</th>\n",
       "      <td>0</td>\n",
       "      <td>06-10-2019 20:10</td>\n",
       "      <td>Território Nacional</td>\n",
       "      <td>0</td>\n",
       "      <td>226</td>\n",
       "      <td>3092</td>\n",
       "      <td>1081</td>\n",
       "      <td>9652</td>\n",
       "      <td>2.5</td>\n",
       "      <td>8874</td>\n",
       "      <td>...</td>\n",
       "      <td>52.66</td>\n",
       "      <td>813743</td>\n",
       "      <td>428546</td>\n",
       "      <td>PS</td>\n",
       "      <td>0</td>\n",
       "      <td>38.29</td>\n",
       "      <td>40.22</td>\n",
       "      <td>147993</td>\n",
       "      <td>94</td>\n",
       "      <td>106</td>\n",
       "    </tr>\n",
       "    <tr>\n",
       "      <th>1</th>\n",
       "      <td>0</td>\n",
       "      <td>06-10-2019 20:10</td>\n",
       "      <td>Território Nacional</td>\n",
       "      <td>0</td>\n",
       "      <td>226</td>\n",
       "      <td>3092</td>\n",
       "      <td>1081</td>\n",
       "      <td>9652</td>\n",
       "      <td>2.5</td>\n",
       "      <td>8874</td>\n",
       "      <td>...</td>\n",
       "      <td>52.66</td>\n",
       "      <td>813743</td>\n",
       "      <td>428546</td>\n",
       "      <td>PPD/PSD</td>\n",
       "      <td>0</td>\n",
       "      <td>33.28</td>\n",
       "      <td>34.95</td>\n",
       "      <td>128624</td>\n",
       "      <td>81</td>\n",
       "      <td>77</td>\n",
       "    </tr>\n",
       "    <tr>\n",
       "      <th>2</th>\n",
       "      <td>0</td>\n",
       "      <td>06-10-2019 20:10</td>\n",
       "      <td>Território Nacional</td>\n",
       "      <td>0</td>\n",
       "      <td>226</td>\n",
       "      <td>3092</td>\n",
       "      <td>1081</td>\n",
       "      <td>9652</td>\n",
       "      <td>2.5</td>\n",
       "      <td>8874</td>\n",
       "      <td>...</td>\n",
       "      <td>52.66</td>\n",
       "      <td>813743</td>\n",
       "      <td>428546</td>\n",
       "      <td>B.E.</td>\n",
       "      <td>0</td>\n",
       "      <td>6.81</td>\n",
       "      <td>7.15</td>\n",
       "      <td>26307</td>\n",
       "      <td>16</td>\n",
       "      <td>19</td>\n",
       "    </tr>\n",
       "    <tr>\n",
       "      <th>3</th>\n",
       "      <td>0</td>\n",
       "      <td>06-10-2019 20:10</td>\n",
       "      <td>Território Nacional</td>\n",
       "      <td>0</td>\n",
       "      <td>226</td>\n",
       "      <td>3092</td>\n",
       "      <td>1081</td>\n",
       "      <td>9652</td>\n",
       "      <td>2.5</td>\n",
       "      <td>8874</td>\n",
       "      <td>...</td>\n",
       "      <td>52.66</td>\n",
       "      <td>813743</td>\n",
       "      <td>428546</td>\n",
       "      <td>CDS-PP</td>\n",
       "      <td>0</td>\n",
       "      <td>4.90</td>\n",
       "      <td>5.14</td>\n",
       "      <td>18923</td>\n",
       "      <td>12</td>\n",
       "      <td>5</td>\n",
       "    </tr>\n",
       "    <tr>\n",
       "      <th>4</th>\n",
       "      <td>0</td>\n",
       "      <td>06-10-2019 20:10</td>\n",
       "      <td>Território Nacional</td>\n",
       "      <td>0</td>\n",
       "      <td>226</td>\n",
       "      <td>3092</td>\n",
       "      <td>1081</td>\n",
       "      <td>9652</td>\n",
       "      <td>2.5</td>\n",
       "      <td>8874</td>\n",
       "      <td>...</td>\n",
       "      <td>52.66</td>\n",
       "      <td>813743</td>\n",
       "      <td>428546</td>\n",
       "      <td>PCP-PEV</td>\n",
       "      <td>0</td>\n",
       "      <td>4.59</td>\n",
       "      <td>4.83</td>\n",
       "      <td>17757</td>\n",
       "      <td>11</td>\n",
       "      <td>12</td>\n",
       "    </tr>\n",
       "  </tbody>\n",
       "</table>\n",
       "<p>5 rows × 28 columns</p>\n",
       "</div>"
      ],
      "text/plain": [
       "   TimeElapsed              time        territoryName  totalMandates  \\\n",
       "0            0  06-10-2019 20:10  Território Nacional              0   \n",
       "1            0  06-10-2019 20:10  Território Nacional              0   \n",
       "2            0  06-10-2019 20:10  Território Nacional              0   \n",
       "3            0  06-10-2019 20:10  Território Nacional              0   \n",
       "4            0  06-10-2019 20:10  Território Nacional              0   \n",
       "\n",
       "   availableMandates  numParishes  numParishesApproved  blankVotes  \\\n",
       "0                226         3092                 1081        9652   \n",
       "1                226         3092                 1081        9652   \n",
       "2                226         3092                 1081        9652   \n",
       "3                226         3092                 1081        9652   \n",
       "4                226         3092                 1081        9652   \n",
       "\n",
       "   blankVotesPercentage  nullVotes  ...  pre.votersPercentage  \\\n",
       "0                   2.5       8874  ...                 52.66   \n",
       "1                   2.5       8874  ...                 52.66   \n",
       "2                   2.5       8874  ...                 52.66   \n",
       "3                   2.5       8874  ...                 52.66   \n",
       "4                   2.5       8874  ...                 52.66   \n",
       "\n",
       "   pre.subscribedVoters  pre.totalVoters    Party  Mandates  Percentage  \\\n",
       "0                813743           428546       PS         0       38.29   \n",
       "1                813743           428546  PPD/PSD         0       33.28   \n",
       "2                813743           428546     B.E.         0        6.81   \n",
       "3                813743           428546   CDS-PP         0        4.90   \n",
       "4                813743           428546  PCP-PEV         0        4.59   \n",
       "\n",
       "   validVotesPercentage   Votes  Hondt  FinalMandates  \n",
       "0                 40.22  147993     94            106  \n",
       "1                 34.95  128624     81             77  \n",
       "2                  7.15   26307     16             19  \n",
       "3                  5.14   18923     12              5  \n",
       "4                  4.83   17757     11             12  \n",
       "\n",
       "[5 rows x 28 columns]"
      ]
     },
     "execution_count": 176,
     "metadata": {},
     "output_type": "execute_result"
    }
   ],
   "source": [
    "df.head() # checking the data set heads"
   ]
  },
  {
   "cell_type": "code",
   "execution_count": 177,
   "id": "66ed747e-4acf-4232-90d3-e5898a773147",
   "metadata": {},
   "outputs": [
    {
     "data": {
      "text/html": [
       "<div>\n",
       "<style scoped>\n",
       "    .dataframe tbody tr th:only-of-type {\n",
       "        vertical-align: middle;\n",
       "    }\n",
       "\n",
       "    .dataframe tbody tr th {\n",
       "        vertical-align: top;\n",
       "    }\n",
       "\n",
       "    .dataframe thead th {\n",
       "        text-align: right;\n",
       "    }\n",
       "</style>\n",
       "<table border=\"1\" class=\"dataframe\">\n",
       "  <thead>\n",
       "    <tr style=\"text-align: right;\">\n",
       "      <th></th>\n",
       "      <th>TimeElapsed</th>\n",
       "      <th>totalMandates</th>\n",
       "      <th>availableMandates</th>\n",
       "      <th>numParishes</th>\n",
       "      <th>numParishesApproved</th>\n",
       "      <th>blankVotes</th>\n",
       "      <th>blankVotesPercentage</th>\n",
       "      <th>nullVotes</th>\n",
       "      <th>nullVotesPercentage</th>\n",
       "      <th>votersPercentage</th>\n",
       "      <th>...</th>\n",
       "      <th>pre.nullVotesPercentage</th>\n",
       "      <th>pre.votersPercentage</th>\n",
       "      <th>pre.subscribedVoters</th>\n",
       "      <th>pre.totalVoters</th>\n",
       "      <th>Mandates</th>\n",
       "      <th>Percentage</th>\n",
       "      <th>validVotesPercentage</th>\n",
       "      <th>Votes</th>\n",
       "      <th>Hondt</th>\n",
       "      <th>FinalMandates</th>\n",
       "    </tr>\n",
       "  </thead>\n",
       "  <tbody>\n",
       "    <tr>\n",
       "      <th>count</th>\n",
       "      <td>21643.000000</td>\n",
       "      <td>21643.000000</td>\n",
       "      <td>21643.000000</td>\n",
       "      <td>21643.000000</td>\n",
       "      <td>21643.000000</td>\n",
       "      <td>21643.000000</td>\n",
       "      <td>21643.000000</td>\n",
       "      <td>21643.000000</td>\n",
       "      <td>21643.000000</td>\n",
       "      <td>21643.000000</td>\n",
       "      <td>...</td>\n",
       "      <td>21643.000000</td>\n",
       "      <td>21643.000000</td>\n",
       "      <td>2.164300e+04</td>\n",
       "      <td>2.164300e+04</td>\n",
       "      <td>21643.000000</td>\n",
       "      <td>21643.000000</td>\n",
       "      <td>21643.000000</td>\n",
       "      <td>2.164300e+04</td>\n",
       "      <td>21643.000000</td>\n",
       "      <td>21643.000000</td>\n",
       "    </tr>\n",
       "    <tr>\n",
       "      <th>mean</th>\n",
       "      <td>133.146052</td>\n",
       "      <td>11.544795</td>\n",
       "      <td>11.499284</td>\n",
       "      <td>309.956013</td>\n",
       "      <td>261.090237</td>\n",
       "      <td>8875.066673</td>\n",
       "      <td>2.621629</td>\n",
       "      <td>6148.068752</td>\n",
       "      <td>1.961471</td>\n",
       "      <td>51.983722</td>\n",
       "      <td>...</td>\n",
       "      <td>1.777442</td>\n",
       "      <td>54.549372</td>\n",
       "      <td>6.378503e+05</td>\n",
       "      <td>3.594932e+05</td>\n",
       "      <td>0.565495</td>\n",
       "      <td>4.968484</td>\n",
       "      <td>5.207232</td>\n",
       "      <td>1.585209e+04</td>\n",
       "      <td>1.126138</td>\n",
       "      <td>1.126138</td>\n",
       "    </tr>\n",
       "    <tr>\n",
       "      <th>std</th>\n",
       "      <td>77.651193</td>\n",
       "      <td>31.314567</td>\n",
       "      <td>31.738783</td>\n",
       "      <td>659.055911</td>\n",
       "      <td>583.377428</td>\n",
       "      <td>21484.874088</td>\n",
       "      <td>0.795289</td>\n",
       "      <td>14735.469269</td>\n",
       "      <td>0.375250</td>\n",
       "      <td>4.854380</td>\n",
       "      <td>...</td>\n",
       "      <td>0.388798</td>\n",
       "      <td>4.964948</td>\n",
       "      <td>1.544418e+06</td>\n",
       "      <td>8.763729e+05</td>\n",
       "      <td>4.421804</td>\n",
       "      <td>10.379967</td>\n",
       "      <td>10.881108</td>\n",
       "      <td>9.310605e+04</td>\n",
       "      <td>6.293552</td>\n",
       "      <td>6.872644</td>\n",
       "    </tr>\n",
       "    <tr>\n",
       "      <th>min</th>\n",
       "      <td>0.000000</td>\n",
       "      <td>0.000000</td>\n",
       "      <td>0.000000</td>\n",
       "      <td>54.000000</td>\n",
       "      <td>3.000000</td>\n",
       "      <td>19.000000</td>\n",
       "      <td>0.530000</td>\n",
       "      <td>39.000000</td>\n",
       "      <td>1.340000</td>\n",
       "      <td>35.980000</td>\n",
       "      <td>...</td>\n",
       "      <td>1.140000</td>\n",
       "      <td>40.870000</td>\n",
       "      <td>6.383000e+03</td>\n",
       "      <td>3.215000e+03</td>\n",
       "      <td>0.000000</td>\n",
       "      <td>0.020000</td>\n",
       "      <td>0.020000</td>\n",
       "      <td>1.000000e+00</td>\n",
       "      <td>0.000000</td>\n",
       "      <td>0.000000</td>\n",
       "    </tr>\n",
       "    <tr>\n",
       "      <th>25%</th>\n",
       "      <td>65.000000</td>\n",
       "      <td>1.000000</td>\n",
       "      <td>0.000000</td>\n",
       "      <td>75.000000</td>\n",
       "      <td>67.000000</td>\n",
       "      <td>1188.000000</td>\n",
       "      <td>2.230000</td>\n",
       "      <td>1094.000000</td>\n",
       "      <td>1.720000</td>\n",
       "      <td>50.290000</td>\n",
       "      <td>...</td>\n",
       "      <td>1.520000</td>\n",
       "      <td>51.210000</td>\n",
       "      <td>1.289260e+05</td>\n",
       "      <td>6.964400e+04</td>\n",
       "      <td>0.000000</td>\n",
       "      <td>0.220000</td>\n",
       "      <td>0.230000</td>\n",
       "      <td>2.360000e+02</td>\n",
       "      <td>0.000000</td>\n",
       "      <td>0.000000</td>\n",
       "    </tr>\n",
       "    <tr>\n",
       "      <th>50%</th>\n",
       "      <td>135.000000</td>\n",
       "      <td>4.000000</td>\n",
       "      <td>3.000000</td>\n",
       "      <td>147.000000</td>\n",
       "      <td>120.000000</td>\n",
       "      <td>2998.000000</td>\n",
       "      <td>2.640000</td>\n",
       "      <td>2232.000000</td>\n",
       "      <td>1.870000</td>\n",
       "      <td>53.130000</td>\n",
       "      <td>...</td>\n",
       "      <td>1.690000</td>\n",
       "      <td>56.260000</td>\n",
       "      <td>2.284970e+05</td>\n",
       "      <td>1.102730e+05</td>\n",
       "      <td>0.000000</td>\n",
       "      <td>0.620000</td>\n",
       "      <td>0.650000</td>\n",
       "      <td>7.900000e+02</td>\n",
       "      <td>0.000000</td>\n",
       "      <td>0.000000</td>\n",
       "    </tr>\n",
       "    <tr>\n",
       "      <th>75%</th>\n",
       "      <td>200.000000</td>\n",
       "      <td>9.000000</td>\n",
       "      <td>9.000000</td>\n",
       "      <td>242.000000</td>\n",
       "      <td>208.000000</td>\n",
       "      <td>6889.000000</td>\n",
       "      <td>2.980000</td>\n",
       "      <td>4121.000000</td>\n",
       "      <td>2.230000</td>\n",
       "      <td>54.550000</td>\n",
       "      <td>...</td>\n",
       "      <td>1.970000</td>\n",
       "      <td>58.220000</td>\n",
       "      <td>3.933140e+05</td>\n",
       "      <td>2.276200e+05</td>\n",
       "      <td>0.000000</td>\n",
       "      <td>3.010000</td>\n",
       "      <td>3.160000</td>\n",
       "      <td>4.510000e+03</td>\n",
       "      <td>0.000000</td>\n",
       "      <td>0.000000</td>\n",
       "    </tr>\n",
       "    <tr>\n",
       "      <th>max</th>\n",
       "      <td>265.000000</td>\n",
       "      <td>226.000000</td>\n",
       "      <td>226.000000</td>\n",
       "      <td>3092.000000</td>\n",
       "      <td>3092.000000</td>\n",
       "      <td>129599.000000</td>\n",
       "      <td>5.460000</td>\n",
       "      <td>88539.000000</td>\n",
       "      <td>3.350000</td>\n",
       "      <td>59.870000</td>\n",
       "      <td>...</td>\n",
       "      <td>3.120000</td>\n",
       "      <td>62.580000</td>\n",
       "      <td>9.439701e+06</td>\n",
       "      <td>5.380451e+06</td>\n",
       "      <td>106.000000</td>\n",
       "      <td>49.110000</td>\n",
       "      <td>51.420000</td>\n",
       "      <td>1.866407e+06</td>\n",
       "      <td>94.000000</td>\n",
       "      <td>106.000000</td>\n",
       "    </tr>\n",
       "  </tbody>\n",
       "</table>\n",
       "<p>8 rows × 25 columns</p>\n",
       "</div>"
      ],
      "text/plain": [
       "        TimeElapsed  totalMandates  availableMandates   numParishes  \\\n",
       "count  21643.000000   21643.000000       21643.000000  21643.000000   \n",
       "mean     133.146052      11.544795          11.499284    309.956013   \n",
       "std       77.651193      31.314567          31.738783    659.055911   \n",
       "min        0.000000       0.000000           0.000000     54.000000   \n",
       "25%       65.000000       1.000000           0.000000     75.000000   \n",
       "50%      135.000000       4.000000           3.000000    147.000000   \n",
       "75%      200.000000       9.000000           9.000000    242.000000   \n",
       "max      265.000000     226.000000         226.000000   3092.000000   \n",
       "\n",
       "       numParishesApproved     blankVotes  blankVotesPercentage     nullVotes  \\\n",
       "count         21643.000000   21643.000000          21643.000000  21643.000000   \n",
       "mean            261.090237    8875.066673              2.621629   6148.068752   \n",
       "std             583.377428   21484.874088              0.795289  14735.469269   \n",
       "min               3.000000      19.000000              0.530000     39.000000   \n",
       "25%              67.000000    1188.000000              2.230000   1094.000000   \n",
       "50%             120.000000    2998.000000              2.640000   2232.000000   \n",
       "75%             208.000000    6889.000000              2.980000   4121.000000   \n",
       "max            3092.000000  129599.000000              5.460000  88539.000000   \n",
       "\n",
       "       nullVotesPercentage  votersPercentage  ...  pre.nullVotesPercentage  \\\n",
       "count         21643.000000      21643.000000  ...             21643.000000   \n",
       "mean              1.961471         51.983722  ...                 1.777442   \n",
       "std               0.375250          4.854380  ...                 0.388798   \n",
       "min               1.340000         35.980000  ...                 1.140000   \n",
       "25%               1.720000         50.290000  ...                 1.520000   \n",
       "50%               1.870000         53.130000  ...                 1.690000   \n",
       "75%               2.230000         54.550000  ...                 1.970000   \n",
       "max               3.350000         59.870000  ...                 3.120000   \n",
       "\n",
       "       pre.votersPercentage  pre.subscribedVoters  pre.totalVoters  \\\n",
       "count          21643.000000          2.164300e+04     2.164300e+04   \n",
       "mean              54.549372          6.378503e+05     3.594932e+05   \n",
       "std                4.964948          1.544418e+06     8.763729e+05   \n",
       "min               40.870000          6.383000e+03     3.215000e+03   \n",
       "25%               51.210000          1.289260e+05     6.964400e+04   \n",
       "50%               56.260000          2.284970e+05     1.102730e+05   \n",
       "75%               58.220000          3.933140e+05     2.276200e+05   \n",
       "max               62.580000          9.439701e+06     5.380451e+06   \n",
       "\n",
       "           Mandates    Percentage  validVotesPercentage         Votes  \\\n",
       "count  21643.000000  21643.000000          21643.000000  2.164300e+04   \n",
       "mean       0.565495      4.968484              5.207232  1.585209e+04   \n",
       "std        4.421804     10.379967             10.881108  9.310605e+04   \n",
       "min        0.000000      0.020000              0.020000  1.000000e+00   \n",
       "25%        0.000000      0.220000              0.230000  2.360000e+02   \n",
       "50%        0.000000      0.620000              0.650000  7.900000e+02   \n",
       "75%        0.000000      3.010000              3.160000  4.510000e+03   \n",
       "max      106.000000     49.110000             51.420000  1.866407e+06   \n",
       "\n",
       "              Hondt  FinalMandates  \n",
       "count  21643.000000   21643.000000  \n",
       "mean       1.126138       1.126138  \n",
       "std        6.293552       6.872644  \n",
       "min        0.000000       0.000000  \n",
       "25%        0.000000       0.000000  \n",
       "50%        0.000000       0.000000  \n",
       "75%        0.000000       0.000000  \n",
       "max       94.000000     106.000000  \n",
       "\n",
       "[8 rows x 25 columns]"
      ]
     },
     "execution_count": 177,
     "metadata": {},
     "output_type": "execute_result"
    }
   ],
   "source": [
    "df.describe() #Checking for simple descriptive statistics"
   ]
  },
  {
   "cell_type": "code",
   "execution_count": 179,
   "id": "4ab82e3d-9791-4d4d-8d1f-85944cdc1438",
   "metadata": {},
   "outputs": [
    {
     "data": {
      "text/plain": [
       "TimeElapsed                   int64\n",
       "time                         object\n",
       "territoryName                object\n",
       "totalMandates                 int64\n",
       "availableMandates             int64\n",
       "numParishes                   int64\n",
       "numParishesApproved           int64\n",
       "blankVotes                    int64\n",
       "blankVotesPercentage        float64\n",
       "nullVotes                     int64\n",
       "nullVotesPercentage         float64\n",
       "votersPercentage            float64\n",
       "subscribedVoters              int64\n",
       "totalVoters                   int64\n",
       "pre.blankVotes                int64\n",
       "pre.blankVotesPercentage    float64\n",
       "pre.nullVotes                 int64\n",
       "pre.nullVotesPercentage     float64\n",
       "pre.votersPercentage        float64\n",
       "pre.subscribedVoters          int64\n",
       "pre.totalVoters               int64\n",
       "Party                        object\n",
       "Mandates                      int64\n",
       "Percentage                  float64\n",
       "validVotesPercentage        float64\n",
       "Votes                         int64\n",
       "Hondt                         int64\n",
       "FinalMandates                 int64\n",
       "dtype: object"
      ]
     },
     "execution_count": 179,
     "metadata": {},
     "output_type": "execute_result"
    }
   ],
   "source": [
    "df.dtypes # Checking for data types"
   ]
  },
  {
   "cell_type": "code",
   "execution_count": 182,
   "id": "dba8ad47-e842-44a6-9169-585996d72ea0",
   "metadata": {},
   "outputs": [
    {
     "data": {
      "text/plain": [
       "TimeElapsed                 0\n",
       "time                        0\n",
       "territoryName               0\n",
       "totalMandates               0\n",
       "availableMandates           0\n",
       "numParishes                 0\n",
       "numParishesApproved         0\n",
       "blankVotes                  0\n",
       "blankVotesPercentage        0\n",
       "nullVotes                   0\n",
       "nullVotesPercentage         0\n",
       "votersPercentage            0\n",
       "subscribedVoters            0\n",
       "totalVoters                 0\n",
       "pre.blankVotes              0\n",
       "pre.blankVotesPercentage    0\n",
       "pre.nullVotes               0\n",
       "pre.nullVotesPercentage     0\n",
       "pre.votersPercentage        0\n",
       "pre.subscribedVoters        0\n",
       "pre.totalVoters             0\n",
       "Party                       0\n",
       "Mandates                    0\n",
       "Percentage                  0\n",
       "validVotesPercentage        0\n",
       "Votes                       0\n",
       "Hondt                       0\n",
       "FinalMandates               0\n",
       "dtype: int64"
      ]
     },
     "execution_count": 182,
     "metadata": {},
     "output_type": "execute_result"
    }
   ],
   "source": [
    "df.isna().sum() #Checking for missing values"
   ]
  },
  {
   "cell_type": "code",
   "execution_count": 185,
   "id": "61190f1b-dfec-4f6e-962b-c6d23fe2cd92",
   "metadata": {},
   "outputs": [
    {
     "name": "stdout",
     "output_type": "stream",
     "text": [
      "<class 'pandas.core.frame.DataFrame'>\n",
      "RangeIndex: 21643 entries, 0 to 21642\n",
      "Data columns (total 28 columns):\n",
      " #   Column                    Non-Null Count  Dtype  \n",
      "---  ------                    --------------  -----  \n",
      " 0   TimeElapsed               21643 non-null  int64  \n",
      " 1   time                      21643 non-null  object \n",
      " 2   territoryName             21643 non-null  object \n",
      " 3   totalMandates             21643 non-null  int64  \n",
      " 4   availableMandates         21643 non-null  int64  \n",
      " 5   numParishes               21643 non-null  int64  \n",
      " 6   numParishesApproved       21643 non-null  int64  \n",
      " 7   blankVotes                21643 non-null  int64  \n",
      " 8   blankVotesPercentage      21643 non-null  float64\n",
      " 9   nullVotes                 21643 non-null  int64  \n",
      " 10  nullVotesPercentage       21643 non-null  float64\n",
      " 11  votersPercentage          21643 non-null  float64\n",
      " 12  subscribedVoters          21643 non-null  int64  \n",
      " 13  totalVoters               21643 non-null  int64  \n",
      " 14  pre.blankVotes            21643 non-null  int64  \n",
      " 15  pre.blankVotesPercentage  21643 non-null  float64\n",
      " 16  pre.nullVotes             21643 non-null  int64  \n",
      " 17  pre.nullVotesPercentage   21643 non-null  float64\n",
      " 18  pre.votersPercentage      21643 non-null  float64\n",
      " 19  pre.subscribedVoters      21643 non-null  int64  \n",
      " 20  pre.totalVoters           21643 non-null  int64  \n",
      " 21  Party                     21643 non-null  object \n",
      " 22  Mandates                  21643 non-null  int64  \n",
      " 23  Percentage                21643 non-null  float64\n",
      " 24  validVotesPercentage      21643 non-null  float64\n",
      " 25  Votes                     21643 non-null  int64  \n",
      " 26  Hondt                     21643 non-null  int64  \n",
      " 27  FinalMandates             21643 non-null  int64  \n",
      "dtypes: float64(8), int64(17), object(3)\n",
      "memory usage: 4.6+ MB\n"
     ]
    }
   ],
   "source": [
    "df.info() #Checking Info about the data"
   ]
  },
  {
   "cell_type": "code",
   "execution_count": 186,
   "id": "1302c8e0-f2c7-41d1-b952-98d7942a8093",
   "metadata": {},
   "outputs": [],
   "source": [
    "df=df.drop(['TimeElapsed','time'],axis=1) #Dropping the variables that are not required"
   ]
  },
  {
   "cell_type": "code",
   "execution_count": 187,
   "id": "637590f1-aa4a-4548-b4ce-7ba8e02a0fea",
   "metadata": {},
   "outputs": [
    {
     "data": {
      "text/plain": [
       "(21643, 26)"
      ]
     },
     "execution_count": 187,
     "metadata": {},
     "output_type": "execute_result"
    }
   ],
   "source": [
    "df.shape"
   ]
  },
  {
   "cell_type": "code",
   "execution_count": 188,
   "id": "2cb27a25-e8c8-43bb-8342-86a2323862f3",
   "metadata": {},
   "outputs": [
    {
     "data": {
      "text/plain": [
       "Index(['territoryName', 'totalMandates', 'availableMandates', 'numParishes',\n",
       "       'numParishesApproved', 'blankVotes', 'blankVotesPercentage',\n",
       "       'nullVotes', 'nullVotesPercentage', 'votersPercentage',\n",
       "       'subscribedVoters', 'totalVoters', 'pre.blankVotes',\n",
       "       'pre.blankVotesPercentage', 'pre.nullVotes', 'pre.nullVotesPercentage',\n",
       "       'pre.votersPercentage', 'pre.subscribedVoters', 'pre.totalVoters',\n",
       "       'Party', 'Mandates', 'Percentage', 'validVotesPercentage', 'Votes',\n",
       "       'Hondt', 'FinalMandates'],\n",
       "      dtype='object')"
      ]
     },
     "execution_count": 188,
     "metadata": {},
     "output_type": "execute_result"
    }
   ],
   "source": [
    "df.columns"
   ]
  },
  {
   "cell_type": "code",
   "execution_count": 193,
   "id": "86ece15f-0262-47d1-a902-95a4843be866",
   "metadata": {},
   "outputs": [],
   "source": [
    "from sklearn.preprocessing import LabelEncoder \n",
    "le=LabelEncoder()\n",
    "df['territoryName']=le.fit_transform(df['territoryName'])\n",
    "df['Party']=le.fit_transform(df['Party'])"
   ]
  },
  {
   "cell_type": "code",
   "execution_count": 195,
   "id": "333c8888-7bd3-4c4c-86f0-51d661b7f7bf",
   "metadata": {},
   "outputs": [],
   "source": [
    "#using LabelEncoder for transforming categorical variables into numerical format is \n",
    "#So it enables the use of machine learning models and advanced analytical techniques that require numerical inputs."
   ]
  },
  {
   "cell_type": "code",
   "execution_count": 197,
   "id": "f48c27f6-5b93-4563-a8aa-d5b039972396",
   "metadata": {},
   "outputs": [
    {
     "data": {
      "text/html": [
       "<div>\n",
       "<style scoped>\n",
       "    .dataframe tbody tr th:only-of-type {\n",
       "        vertical-align: middle;\n",
       "    }\n",
       "\n",
       "    .dataframe tbody tr th {\n",
       "        vertical-align: top;\n",
       "    }\n",
       "\n",
       "    .dataframe thead th {\n",
       "        text-align: right;\n",
       "    }\n",
       "</style>\n",
       "<table border=\"1\" class=\"dataframe\">\n",
       "  <thead>\n",
       "    <tr style=\"text-align: right;\">\n",
       "      <th></th>\n",
       "      <th>territoryName</th>\n",
       "      <th>totalMandates</th>\n",
       "      <th>availableMandates</th>\n",
       "      <th>numParishes</th>\n",
       "      <th>numParishesApproved</th>\n",
       "      <th>blankVotes</th>\n",
       "      <th>blankVotesPercentage</th>\n",
       "      <th>nullVotes</th>\n",
       "      <th>nullVotesPercentage</th>\n",
       "      <th>votersPercentage</th>\n",
       "      <th>...</th>\n",
       "      <th>pre.votersPercentage</th>\n",
       "      <th>pre.subscribedVoters</th>\n",
       "      <th>pre.totalVoters</th>\n",
       "      <th>Party</th>\n",
       "      <th>Mandates</th>\n",
       "      <th>Percentage</th>\n",
       "      <th>validVotesPercentage</th>\n",
       "      <th>Votes</th>\n",
       "      <th>Hondt</th>\n",
       "      <th>FinalMandates</th>\n",
       "    </tr>\n",
       "  </thead>\n",
       "  <tbody>\n",
       "    <tr>\n",
       "      <th>0</th>\n",
       "      <td>16</td>\n",
       "      <td>0</td>\n",
       "      <td>226</td>\n",
       "      <td>3092</td>\n",
       "      <td>1081</td>\n",
       "      <td>9652</td>\n",
       "      <td>2.5</td>\n",
       "      <td>8874</td>\n",
       "      <td>2.3</td>\n",
       "      <td>51.36</td>\n",
       "      <td>...</td>\n",
       "      <td>52.66</td>\n",
       "      <td>813743</td>\n",
       "      <td>428546</td>\n",
       "      <td>17</td>\n",
       "      <td>0</td>\n",
       "      <td>38.29</td>\n",
       "      <td>40.22</td>\n",
       "      <td>147993</td>\n",
       "      <td>94</td>\n",
       "      <td>106</td>\n",
       "    </tr>\n",
       "    <tr>\n",
       "      <th>1</th>\n",
       "      <td>16</td>\n",
       "      <td>0</td>\n",
       "      <td>226</td>\n",
       "      <td>3092</td>\n",
       "      <td>1081</td>\n",
       "      <td>9652</td>\n",
       "      <td>2.5</td>\n",
       "      <td>8874</td>\n",
       "      <td>2.3</td>\n",
       "      <td>51.36</td>\n",
       "      <td>...</td>\n",
       "      <td>52.66</td>\n",
       "      <td>813743</td>\n",
       "      <td>428546</td>\n",
       "      <td>15</td>\n",
       "      <td>0</td>\n",
       "      <td>33.28</td>\n",
       "      <td>34.95</td>\n",
       "      <td>128624</td>\n",
       "      <td>81</td>\n",
       "      <td>77</td>\n",
       "    </tr>\n",
       "    <tr>\n",
       "      <th>2</th>\n",
       "      <td>16</td>\n",
       "      <td>0</td>\n",
       "      <td>226</td>\n",
       "      <td>3092</td>\n",
       "      <td>1081</td>\n",
       "      <td>9652</td>\n",
       "      <td>2.5</td>\n",
       "      <td>8874</td>\n",
       "      <td>2.3</td>\n",
       "      <td>51.36</td>\n",
       "      <td>...</td>\n",
       "      <td>52.66</td>\n",
       "      <td>813743</td>\n",
       "      <td>428546</td>\n",
       "      <td>1</td>\n",
       "      <td>0</td>\n",
       "      <td>6.81</td>\n",
       "      <td>7.15</td>\n",
       "      <td>26307</td>\n",
       "      <td>16</td>\n",
       "      <td>19</td>\n",
       "    </tr>\n",
       "    <tr>\n",
       "      <th>3</th>\n",
       "      <td>16</td>\n",
       "      <td>0</td>\n",
       "      <td>226</td>\n",
       "      <td>3092</td>\n",
       "      <td>1081</td>\n",
       "      <td>9652</td>\n",
       "      <td>2.5</td>\n",
       "      <td>8874</td>\n",
       "      <td>2.3</td>\n",
       "      <td>51.36</td>\n",
       "      <td>...</td>\n",
       "      <td>52.66</td>\n",
       "      <td>813743</td>\n",
       "      <td>428546</td>\n",
       "      <td>2</td>\n",
       "      <td>0</td>\n",
       "      <td>4.90</td>\n",
       "      <td>5.14</td>\n",
       "      <td>18923</td>\n",
       "      <td>12</td>\n",
       "      <td>5</td>\n",
       "    </tr>\n",
       "    <tr>\n",
       "      <th>4</th>\n",
       "      <td>16</td>\n",
       "      <td>0</td>\n",
       "      <td>226</td>\n",
       "      <td>3092</td>\n",
       "      <td>1081</td>\n",
       "      <td>9652</td>\n",
       "      <td>2.5</td>\n",
       "      <td>8874</td>\n",
       "      <td>2.3</td>\n",
       "      <td>51.36</td>\n",
       "      <td>...</td>\n",
       "      <td>52.66</td>\n",
       "      <td>813743</td>\n",
       "      <td>428546</td>\n",
       "      <td>11</td>\n",
       "      <td>0</td>\n",
       "      <td>4.59</td>\n",
       "      <td>4.83</td>\n",
       "      <td>17757</td>\n",
       "      <td>11</td>\n",
       "      <td>12</td>\n",
       "    </tr>\n",
       "  </tbody>\n",
       "</table>\n",
       "<p>5 rows × 26 columns</p>\n",
       "</div>"
      ],
      "text/plain": [
       "   territoryName  totalMandates  availableMandates  numParishes  \\\n",
       "0             16              0                226         3092   \n",
       "1             16              0                226         3092   \n",
       "2             16              0                226         3092   \n",
       "3             16              0                226         3092   \n",
       "4             16              0                226         3092   \n",
       "\n",
       "   numParishesApproved  blankVotes  blankVotesPercentage  nullVotes  \\\n",
       "0                 1081        9652                   2.5       8874   \n",
       "1                 1081        9652                   2.5       8874   \n",
       "2                 1081        9652                   2.5       8874   \n",
       "3                 1081        9652                   2.5       8874   \n",
       "4                 1081        9652                   2.5       8874   \n",
       "\n",
       "   nullVotesPercentage  votersPercentage  ...  pre.votersPercentage  \\\n",
       "0                  2.3             51.36  ...                 52.66   \n",
       "1                  2.3             51.36  ...                 52.66   \n",
       "2                  2.3             51.36  ...                 52.66   \n",
       "3                  2.3             51.36  ...                 52.66   \n",
       "4                  2.3             51.36  ...                 52.66   \n",
       "\n",
       "   pre.subscribedVoters  pre.totalVoters  Party  Mandates  Percentage  \\\n",
       "0                813743           428546     17         0       38.29   \n",
       "1                813743           428546     15         0       33.28   \n",
       "2                813743           428546      1         0        6.81   \n",
       "3                813743           428546      2         0        4.90   \n",
       "4                813743           428546     11         0        4.59   \n",
       "\n",
       "   validVotesPercentage   Votes  Hondt  FinalMandates  \n",
       "0                 40.22  147993     94            106  \n",
       "1                 34.95  128624     81             77  \n",
       "2                  7.15   26307     16             19  \n",
       "3                  5.14   18923     12              5  \n",
       "4                  4.83   17757     11             12  \n",
       "\n",
       "[5 rows x 26 columns]"
      ]
     },
     "execution_count": 197,
     "metadata": {},
     "output_type": "execute_result"
    }
   ],
   "source": [
    "df.head()"
   ]
  },
  {
   "cell_type": "code",
   "execution_count": 199,
   "id": "efe0b81d-ff72-4307-8987-c8ad564c8e4f",
   "metadata": {},
   "outputs": [],
   "source": [
    "from sklearn.preprocessing import StandardScaler\n",
    "ss=StandardScaler()"
   ]
  },
  {
   "cell_type": "code",
   "execution_count": 200,
   "id": "4f1caff0-8177-46a6-9cd5-2f8258eb3ff4",
   "metadata": {},
   "outputs": [],
   "source": [
    "df['totalMandates']=ss.fit_transform(df[['totalMandates']])\n",
    "df['availableMandates']=ss.fit_transform(df[['availableMandates']])\n",
    "df['numParishes']=ss.fit_transform(df[['numParishes']])\n",
    "df['numParishesApproved']=ss.fit_transform(df[['numParishesApproved']])\n",
    "df['blankVotes']=ss.fit_transform(df[['blankVotes']])\n",
    "df['blankVotesPercentage']=ss.fit_transform(df[['blankVotesPercentage']])\n",
    "df['nullVotes']=ss.fit_transform(df[['nullVotes']])\n",
    "df['pre.votersPercentage']=ss.fit_transform(df[['pre.votersPercentage']])\n",
    "df['pre.subscribedVoters']=ss.fit_transform(df[['pre.subscribedVoters']])\n",
    "df['pre.totalVoters']=ss.fit_transform(df[['pre.totalVoters']])\n",
    "df['Mandates']=ss.fit_transform(df[['Mandates']])\n",
    "df['Percentage']=ss.fit_transform(df[['Percentage']])\n",
    "df['validVotesPercentage']=ss.fit_transform(df[['validVotesPercentage']])\n",
    "df['Votes']=ss.fit_transform(df[['Votes']])\n",
    "df['Hondt']=ss.fit_transform(df[['Hondt']])\n",
    "df['FinalMandates']=ss.fit_transform(df[['FinalMandates']])"
   ]
  },
  {
   "cell_type": "code",
   "execution_count": 203,
   "id": "cdcac163-6354-42c4-9dea-feb62cd67a8e",
   "metadata": {},
   "outputs": [],
   "source": [
    "#Using StandardScaler to normalize the values of multiple columns such as totalMandates, availableMandates, and others \n",
    "#ensures that all features contribute equally to analyses and machine learning models by transforming them to have a mean of zero and a standard deviation of one."
   ]
  },
  {
   "cell_type": "code",
   "execution_count": 205,
   "id": "75cc04ea-248b-41db-862c-00c43e6e4b1f",
   "metadata": {},
   "outputs": [
    {
     "data": {
      "text/html": [
       "<div>\n",
       "<style scoped>\n",
       "    .dataframe tbody tr th:only-of-type {\n",
       "        vertical-align: middle;\n",
       "    }\n",
       "\n",
       "    .dataframe tbody tr th {\n",
       "        vertical-align: top;\n",
       "    }\n",
       "\n",
       "    .dataframe thead th {\n",
       "        text-align: right;\n",
       "    }\n",
       "</style>\n",
       "<table border=\"1\" class=\"dataframe\">\n",
       "  <thead>\n",
       "    <tr style=\"text-align: right;\">\n",
       "      <th></th>\n",
       "      <th>territoryName</th>\n",
       "      <th>totalMandates</th>\n",
       "      <th>availableMandates</th>\n",
       "      <th>numParishes</th>\n",
       "      <th>numParishesApproved</th>\n",
       "      <th>blankVotes</th>\n",
       "      <th>blankVotesPercentage</th>\n",
       "      <th>nullVotes</th>\n",
       "      <th>nullVotesPercentage</th>\n",
       "      <th>votersPercentage</th>\n",
       "      <th>...</th>\n",
       "      <th>pre.votersPercentage</th>\n",
       "      <th>pre.subscribedVoters</th>\n",
       "      <th>pre.totalVoters</th>\n",
       "      <th>Party</th>\n",
       "      <th>Mandates</th>\n",
       "      <th>Percentage</th>\n",
       "      <th>validVotesPercentage</th>\n",
       "      <th>Votes</th>\n",
       "      <th>Hondt</th>\n",
       "      <th>FinalMandates</th>\n",
       "    </tr>\n",
       "  </thead>\n",
       "  <tbody>\n",
       "    <tr>\n",
       "      <th>0</th>\n",
       "      <td>16</td>\n",
       "      <td>-0.36868</td>\n",
       "      <td>6.758472</td>\n",
       "      <td>4.221354</td>\n",
       "      <td>1.405486</td>\n",
       "      <td>0.036163</td>\n",
       "      <td>-0.152941</td>\n",
       "      <td>0.184995</td>\n",
       "      <td>2.3</td>\n",
       "      <td>51.36</td>\n",
       "      <td>...</td>\n",
       "      <td>-0.380551</td>\n",
       "      <td>0.113892</td>\n",
       "      <td>0.078796</td>\n",
       "      <td>17</td>\n",
       "      <td>-0.127891</td>\n",
       "      <td>3.210250</td>\n",
       "      <td>3.217832</td>\n",
       "      <td>1.419284</td>\n",
       "      <td>14.757327</td>\n",
       "      <td>15.259962</td>\n",
       "    </tr>\n",
       "    <tr>\n",
       "      <th>1</th>\n",
       "      <td>16</td>\n",
       "      <td>-0.36868</td>\n",
       "      <td>6.758472</td>\n",
       "      <td>4.221354</td>\n",
       "      <td>1.405486</td>\n",
       "      <td>0.036163</td>\n",
       "      <td>-0.152941</td>\n",
       "      <td>0.184995</td>\n",
       "      <td>2.3</td>\n",
       "      <td>51.36</td>\n",
       "      <td>...</td>\n",
       "      <td>-0.380551</td>\n",
       "      <td>0.113892</td>\n",
       "      <td>0.078796</td>\n",
       "      <td>15</td>\n",
       "      <td>-0.127891</td>\n",
       "      <td>2.727578</td>\n",
       "      <td>2.733495</td>\n",
       "      <td>1.211248</td>\n",
       "      <td>12.691673</td>\n",
       "      <td>11.040237</td>\n",
       "    </tr>\n",
       "    <tr>\n",
       "      <th>2</th>\n",
       "      <td>16</td>\n",
       "      <td>-0.36868</td>\n",
       "      <td>6.758472</td>\n",
       "      <td>4.221354</td>\n",
       "      <td>1.405486</td>\n",
       "      <td>0.036163</td>\n",
       "      <td>-0.152941</td>\n",
       "      <td>0.184995</td>\n",
       "      <td>2.3</td>\n",
       "      <td>51.36</td>\n",
       "      <td>...</td>\n",
       "      <td>-0.380551</td>\n",
       "      <td>0.113892</td>\n",
       "      <td>0.078796</td>\n",
       "      <td>1</td>\n",
       "      <td>-0.127891</td>\n",
       "      <td>0.177415</td>\n",
       "      <td>0.178549</td>\n",
       "      <td>0.112293</td>\n",
       "      <td>2.363404</td>\n",
       "      <td>2.600786</td>\n",
       "    </tr>\n",
       "    <tr>\n",
       "      <th>3</th>\n",
       "      <td>16</td>\n",
       "      <td>-0.36868</td>\n",
       "      <td>6.758472</td>\n",
       "      <td>4.221354</td>\n",
       "      <td>1.405486</td>\n",
       "      <td>0.036163</td>\n",
       "      <td>-0.152941</td>\n",
       "      <td>0.184995</td>\n",
       "      <td>2.3</td>\n",
       "      <td>51.36</td>\n",
       "      <td>...</td>\n",
       "      <td>-0.380551</td>\n",
       "      <td>0.113892</td>\n",
       "      <td>0.078796</td>\n",
       "      <td>2</td>\n",
       "      <td>-0.127891</td>\n",
       "      <td>-0.006598</td>\n",
       "      <td>-0.006179</td>\n",
       "      <td>0.032984</td>\n",
       "      <td>1.727818</td>\n",
       "      <td>0.563677</td>\n",
       "    </tr>\n",
       "    <tr>\n",
       "      <th>4</th>\n",
       "      <td>16</td>\n",
       "      <td>-0.36868</td>\n",
       "      <td>6.758472</td>\n",
       "      <td>4.221354</td>\n",
       "      <td>1.405486</td>\n",
       "      <td>0.036163</td>\n",
       "      <td>-0.152941</td>\n",
       "      <td>0.184995</td>\n",
       "      <td>2.3</td>\n",
       "      <td>51.36</td>\n",
       "      <td>...</td>\n",
       "      <td>-0.380551</td>\n",
       "      <td>0.113892</td>\n",
       "      <td>0.078796</td>\n",
       "      <td>11</td>\n",
       "      <td>-0.127891</td>\n",
       "      <td>-0.036464</td>\n",
       "      <td>-0.034669</td>\n",
       "      <td>0.020460</td>\n",
       "      <td>1.568922</td>\n",
       "      <td>1.582231</td>\n",
       "    </tr>\n",
       "  </tbody>\n",
       "</table>\n",
       "<p>5 rows × 26 columns</p>\n",
       "</div>"
      ],
      "text/plain": [
       "   territoryName  totalMandates  availableMandates  numParishes  \\\n",
       "0             16       -0.36868           6.758472     4.221354   \n",
       "1             16       -0.36868           6.758472     4.221354   \n",
       "2             16       -0.36868           6.758472     4.221354   \n",
       "3             16       -0.36868           6.758472     4.221354   \n",
       "4             16       -0.36868           6.758472     4.221354   \n",
       "\n",
       "   numParishesApproved  blankVotes  blankVotesPercentage  nullVotes  \\\n",
       "0             1.405486    0.036163             -0.152941   0.184995   \n",
       "1             1.405486    0.036163             -0.152941   0.184995   \n",
       "2             1.405486    0.036163             -0.152941   0.184995   \n",
       "3             1.405486    0.036163             -0.152941   0.184995   \n",
       "4             1.405486    0.036163             -0.152941   0.184995   \n",
       "\n",
       "   nullVotesPercentage  votersPercentage  ...  pre.votersPercentage  \\\n",
       "0                  2.3             51.36  ...             -0.380551   \n",
       "1                  2.3             51.36  ...             -0.380551   \n",
       "2                  2.3             51.36  ...             -0.380551   \n",
       "3                  2.3             51.36  ...             -0.380551   \n",
       "4                  2.3             51.36  ...             -0.380551   \n",
       "\n",
       "   pre.subscribedVoters  pre.totalVoters  Party  Mandates  Percentage  \\\n",
       "0              0.113892         0.078796     17 -0.127891    3.210250   \n",
       "1              0.113892         0.078796     15 -0.127891    2.727578   \n",
       "2              0.113892         0.078796      1 -0.127891    0.177415   \n",
       "3              0.113892         0.078796      2 -0.127891   -0.006598   \n",
       "4              0.113892         0.078796     11 -0.127891   -0.036464   \n",
       "\n",
       "   validVotesPercentage     Votes      Hondt  FinalMandates  \n",
       "0              3.217832  1.419284  14.757327      15.259962  \n",
       "1              2.733495  1.211248  12.691673      11.040237  \n",
       "2              0.178549  0.112293   2.363404       2.600786  \n",
       "3             -0.006179  0.032984   1.727818       0.563677  \n",
       "4             -0.034669  0.020460   1.568922       1.582231  \n",
       "\n",
       "[5 rows x 26 columns]"
      ]
     },
     "execution_count": 205,
     "metadata": {},
     "output_type": "execute_result"
    }
   ],
   "source": [
    "df.head()"
   ]
  },
  {
   "cell_type": "code",
   "execution_count": 207,
   "id": "91e1e56f-e7f0-4052-9918-e4e08d206a92",
   "metadata": {},
   "outputs": [],
   "source": [
    "from sklearn.model_selection import train_test_split"
   ]
  },
  {
   "cell_type": "code",
   "execution_count": 209,
   "id": "f54b6168-8319-4f9e-a81c-a17ef5140d6a",
   "metadata": {},
   "outputs": [
    {
     "data": {
      "text/plain": [
       "Index(['territoryName', 'totalMandates', 'availableMandates', 'numParishes',\n",
       "       'numParishesApproved', 'blankVotes', 'blankVotesPercentage',\n",
       "       'nullVotes', 'nullVotesPercentage', 'votersPercentage',\n",
       "       'subscribedVoters', 'totalVoters', 'pre.blankVotes',\n",
       "       'pre.blankVotesPercentage', 'pre.nullVotes', 'pre.nullVotesPercentage',\n",
       "       'pre.votersPercentage', 'pre.subscribedVoters', 'pre.totalVoters',\n",
       "       'Party', 'Mandates', 'Percentage', 'validVotesPercentage', 'Votes',\n",
       "       'Hondt', 'FinalMandates'],\n",
       "      dtype='object')"
      ]
     },
     "execution_count": 209,
     "metadata": {},
     "output_type": "execute_result"
    }
   ],
   "source": [
    "df.columns "
   ]
  },
  {
   "cell_type": "code",
   "execution_count": 211,
   "id": "dd7f0891-9f5b-4dff-a49a-745fb4d07418",
   "metadata": {},
   "outputs": [],
   "source": [
    "y=df['FinalMandates']\n",
    "x=df[['territoryName', 'totalMandates',\n",
    "       'availableMandates', 'numParishes', 'numParishesApproved', 'blankVotes',\n",
    "       'blankVotesPercentage', 'nullVotes', 'nullVotesPercentage',\n",
    "       'votersPercentage', 'subscribedVoters', 'totalVoters', 'pre.blankVotes',\n",
    "       'pre.blankVotesPercentage', 'pre.nullVotes', 'pre.nullVotesPercentage',\n",
    "       'pre.votersPercentage', 'pre.subscribedVoters', 'pre.totalVoters',\n",
    "       'Party', 'Mandates', 'Percentage', 'validVotesPercentage', 'Votes',\n",
    "       'Hondt']]\n",
    "# Dividing the Dataset into training and testing\n",
    "# x_train,x_test,y_train,y_test = train_test_split(x,y,test_size=0.3) \n",
    "# 70% training part,30% testing parts"
   ]
  },
  {
   "cell_type": "code",
   "execution_count": 213,
   "id": "3ff00da0-3232-4176-8b05-53ada6f2d97b",
   "metadata": {},
   "outputs": [],
   "source": [
    "x_train,x_test,y_train,y_test = train_test_split(x,y,test_size=0.2)"
   ]
  },
  {
   "cell_type": "code",
   "execution_count": 215,
   "id": "2f33221f-8c1e-4051-a097-517a02513a79",
   "metadata": {},
   "outputs": [
    {
     "data": {
      "text/plain": [
       "(17314, 25)"
      ]
     },
     "execution_count": 215,
     "metadata": {},
     "output_type": "execute_result"
    }
   ],
   "source": [
    "x_train.shape"
   ]
  },
  {
   "cell_type": "code",
   "execution_count": 217,
   "id": "9a408923-a5f0-4593-9c76-5fbb1568c502",
   "metadata": {},
   "outputs": [
    {
     "data": {
      "text/plain": [
       "(4329, 25)"
      ]
     },
     "execution_count": 217,
     "metadata": {},
     "output_type": "execute_result"
    }
   ],
   "source": [
    "x_test.shape"
   ]
  },
  {
   "cell_type": "code",
   "execution_count": 219,
   "id": "92fc99aa-c25f-4a18-a02b-ef498180e786",
   "metadata": {},
   "outputs": [],
   "source": [
    "# Modeling into Regressor:\n",
    "\n",
    "# import Decision Tree Regressor"
   ]
  },
  {
   "cell_type": "code",
   "execution_count": 221,
   "id": "a5f08914-21b6-4f27-8e58-1b35c9d298d3",
   "metadata": {},
   "outputs": [],
   "source": [
    "from sklearn.tree import DecisionTreeRegressor\n",
    "dt = DecisionTreeRegressor()"
   ]
  },
  {
   "cell_type": "code",
   "execution_count": 223,
   "id": "205f6d96-2f33-4c46-8c5f-895f71624623",
   "metadata": {},
   "outputs": [
    {
     "data": {
      "text/html": [
       "<style>#sk-container-id-6 {color: black;}#sk-container-id-6 pre{padding: 0;}#sk-container-id-6 div.sk-toggleable {background-color: white;}#sk-container-id-6 label.sk-toggleable__label {cursor: pointer;display: block;width: 100%;margin-bottom: 0;padding: 0.3em;box-sizing: border-box;text-align: center;}#sk-container-id-6 label.sk-toggleable__label-arrow:before {content: \"▸\";float: left;margin-right: 0.25em;color: #696969;}#sk-container-id-6 label.sk-toggleable__label-arrow:hover:before {color: black;}#sk-container-id-6 div.sk-estimator:hover label.sk-toggleable__label-arrow:before {color: black;}#sk-container-id-6 div.sk-toggleable__content {max-height: 0;max-width: 0;overflow: hidden;text-align: left;background-color: #f0f8ff;}#sk-container-id-6 div.sk-toggleable__content pre {margin: 0.2em;color: black;border-radius: 0.25em;background-color: #f0f8ff;}#sk-container-id-6 input.sk-toggleable__control:checked~div.sk-toggleable__content {max-height: 200px;max-width: 100%;overflow: auto;}#sk-container-id-6 input.sk-toggleable__control:checked~label.sk-toggleable__label-arrow:before {content: \"▾\";}#sk-container-id-6 div.sk-estimator input.sk-toggleable__control:checked~label.sk-toggleable__label {background-color: #d4ebff;}#sk-container-id-6 div.sk-label input.sk-toggleable__control:checked~label.sk-toggleable__label {background-color: #d4ebff;}#sk-container-id-6 input.sk-hidden--visually {border: 0;clip: rect(1px 1px 1px 1px);clip: rect(1px, 1px, 1px, 1px);height: 1px;margin: -1px;overflow: hidden;padding: 0;position: absolute;width: 1px;}#sk-container-id-6 div.sk-estimator {font-family: monospace;background-color: #f0f8ff;border: 1px dotted black;border-radius: 0.25em;box-sizing: border-box;margin-bottom: 0.5em;}#sk-container-id-6 div.sk-estimator:hover {background-color: #d4ebff;}#sk-container-id-6 div.sk-parallel-item::after {content: \"\";width: 100%;border-bottom: 1px solid gray;flex-grow: 1;}#sk-container-id-6 div.sk-label:hover label.sk-toggleable__label {background-color: #d4ebff;}#sk-container-id-6 div.sk-serial::before {content: \"\";position: absolute;border-left: 1px solid gray;box-sizing: border-box;top: 0;bottom: 0;left: 50%;z-index: 0;}#sk-container-id-6 div.sk-serial {display: flex;flex-direction: column;align-items: center;background-color: white;padding-right: 0.2em;padding-left: 0.2em;position: relative;}#sk-container-id-6 div.sk-item {position: relative;z-index: 1;}#sk-container-id-6 div.sk-parallel {display: flex;align-items: stretch;justify-content: center;background-color: white;position: relative;}#sk-container-id-6 div.sk-item::before, #sk-container-id-6 div.sk-parallel-item::before {content: \"\";position: absolute;border-left: 1px solid gray;box-sizing: border-box;top: 0;bottom: 0;left: 50%;z-index: -1;}#sk-container-id-6 div.sk-parallel-item {display: flex;flex-direction: column;z-index: 1;position: relative;background-color: white;}#sk-container-id-6 div.sk-parallel-item:first-child::after {align-self: flex-end;width: 50%;}#sk-container-id-6 div.sk-parallel-item:last-child::after {align-self: flex-start;width: 50%;}#sk-container-id-6 div.sk-parallel-item:only-child::after {width: 0;}#sk-container-id-6 div.sk-dashed-wrapped {border: 1px dashed gray;margin: 0 0.4em 0.5em 0.4em;box-sizing: border-box;padding-bottom: 0.4em;background-color: white;}#sk-container-id-6 div.sk-label label {font-family: monospace;font-weight: bold;display: inline-block;line-height: 1.2em;}#sk-container-id-6 div.sk-label-container {text-align: center;}#sk-container-id-6 div.sk-container {/* jupyter's `normalize.less` sets `[hidden] { display: none; }` but bootstrap.min.css set `[hidden] { display: none !important; }` so we also need the `!important` here to be able to override the default hidden behavior on the sphinx rendered scikit-learn.org. See: https://github.com/scikit-learn/scikit-learn/issues/21755 */display: inline-block !important;position: relative;}#sk-container-id-6 div.sk-text-repr-fallback {display: none;}</style><div id=\"sk-container-id-6\" class=\"sk-top-container\"><div class=\"sk-text-repr-fallback\"><pre>DecisionTreeRegressor()</pre><b>In a Jupyter environment, please rerun this cell to show the HTML representation or trust the notebook. <br />On GitHub, the HTML representation is unable to render, please try loading this page with nbviewer.org.</b></div><div class=\"sk-container\" hidden><div class=\"sk-item\"><div class=\"sk-estimator sk-toggleable\"><input class=\"sk-toggleable__control sk-hidden--visually\" id=\"sk-estimator-id-6\" type=\"checkbox\" checked><label for=\"sk-estimator-id-6\" class=\"sk-toggleable__label sk-toggleable__label-arrow\">DecisionTreeRegressor</label><div class=\"sk-toggleable__content\"><pre>DecisionTreeRegressor()</pre></div></div></div></div></div>"
      ],
      "text/plain": [
       "DecisionTreeRegressor()"
      ]
     },
     "execution_count": 223,
     "metadata": {},
     "output_type": "execute_result"
    }
   ],
   "source": [
    "dt.fit(x_train,y_train)\n",
    "#indicates that a decision tree model dt is being trained on the feature data x_train and the target variable yy_train. \n",
    "#The managerial implication of this action is that the decision tree model is being optimized to identify patterns and relationships between the features and the target variable within the training data."
   ]
  },
  {
   "cell_type": "code",
   "execution_count": 225,
   "id": "f51cd55f-a5d4-4e1f-8288-aca28f27342d",
   "metadata": {},
   "outputs": [],
   "source": [
    "y_pred = dt.predict(x_test)"
   ]
  },
  {
   "cell_type": "code",
   "execution_count": 227,
   "id": "7c9fec24-0e4c-4e18-bfe9-b719b0f195ba",
   "metadata": {},
   "outputs": [
    {
     "data": {
      "text/plain": [
       "array([-0.1638618, -0.1638618, -0.1638618, ..., -0.1638618, -0.1638618,\n",
       "       -0.1638618])"
      ]
     },
     "execution_count": 227,
     "metadata": {},
     "output_type": "execute_result"
    }
   ],
   "source": [
    "y_pred"
   ]
  },
  {
   "cell_type": "code",
   "execution_count": 229,
   "id": "a6bb54dd-f93e-4091-8dfa-47a83e2b4a78",
   "metadata": {},
   "outputs": [
    {
     "data": {
      "text/plain": [
       "19551   -0.163862\n",
       "4812    -0.163862\n",
       "10067   -0.163862\n",
       "1267    -0.163862\n",
       "4338    -0.163862\n",
       "           ...   \n",
       "7990    -0.163862\n",
       "8489    -0.163862\n",
       "16871   -0.163862\n",
       "7833    -0.163862\n",
       "16673   -0.163862\n",
       "Name: FinalMandates, Length: 4329, dtype: float64"
      ]
     },
     "execution_count": 229,
     "metadata": {},
     "output_type": "execute_result"
    }
   ],
   "source": [
    "y_test"
   ]
  },
  {
   "cell_type": "code",
   "execution_count": 231,
   "id": "38b38d7f-b72e-4228-a4f1-ce61b7e64baf",
   "metadata": {},
   "outputs": [
    {
     "data": {
      "text/plain": [
       "19551   -0.163862\n",
       "4812    -0.163862\n",
       "10067   -0.163862\n",
       "1267    -0.163862\n",
       "4338    -0.163862\n",
       "           ...   \n",
       "7990    -0.163862\n",
       "8489    -0.163862\n",
       "16871   -0.163862\n",
       "7833    -0.163862\n",
       "16673   -0.163862\n",
       "Name: FinalMandates, Length: 4329, dtype: float64"
      ]
     },
     "execution_count": 231,
     "metadata": {},
     "output_type": "execute_result"
    }
   ],
   "source": [
    "y_test"
   ]
  },
  {
   "cell_type": "code",
   "execution_count": 233,
   "id": "98eebd81-334c-487c-837a-c99a6b5c08bb",
   "metadata": {},
   "outputs": [],
   "source": [
    "from sklearn.metrics import mean_absolute_error, mean_squared_error"
   ]
  },
  {
   "cell_type": "code",
   "execution_count": null,
   "id": "c54bd0e1-9ef2-42f7-be36-c4785ac93e79",
   "metadata": {},
   "outputs": [],
   "source": [
    "#Mean Absolute Error and Mean Squared Error in business is that these metrics provide a clear understanding of model performance, which directly influences decision-making, financial planning, and risk management. \n",
    "#Mean Absolute Error helps managers understand the average size of errors in the same unit as the target, offering a realistic view of potential deviations in predictions. \n",
    "#Mean Squared Error, by penalizing larger errors more, highlights areas where the model may be particularly vulnerable to extreme mistakes. \n",
    "#This allows managers to refine models, minimize costly prediction errors, and select the most reliable model for optimizing operational efficiency and business outcomes."
   ]
  },
  {
   "cell_type": "code",
   "execution_count": 235,
   "id": "4a1df4ba-811c-4a0b-884a-5abbd939996b",
   "metadata": {},
   "outputs": [
    {
     "data": {
      "text/plain": [
       "0.00023528630410631275"
      ]
     },
     "execution_count": 235,
     "metadata": {},
     "output_type": "execute_result"
    }
   ],
   "source": [
    "mean_absolute_error(y_test,y_pred)"
   ]
  },
  {
   "cell_type": "code",
   "execution_count": 237,
   "id": "23e76498-6629-495a-97bc-490a432664df",
   "metadata": {},
   "outputs": [
    {
     "data": {
      "text/plain": [
       "5.379940673864238e-05"
      ]
     },
     "execution_count": 237,
     "metadata": {},
     "output_type": "execute_result"
    }
   ],
   "source": [
    "mean_squared_error(y_test,y_pred)"
   ]
  },
  {
   "cell_type": "code",
   "execution_count": 239,
   "id": "5e5fd2fa-115e-44a8-bc34-6f3daca6f329",
   "metadata": {},
   "outputs": [
    {
     "data": {
      "text/plain": [
       "Hondt                       9.964187e-01\n",
       "Party                       1.206731e-03\n",
       "Percentage                  6.394115e-04\n",
       "blankVotesPercentage        5.493707e-04\n",
       "territoryName               4.747505e-04\n",
       "totalMandates               1.689807e-04\n",
       "numParishesApproved         1.485601e-04\n",
       "pre.blankVotesPercentage    1.081137e-04\n",
       "Votes                       6.540708e-05\n",
       "numParishes                 5.110842e-05\n",
       "validVotesPercentage        4.813248e-05\n",
       "nullVotesPercentage         4.721858e-05\n",
       "availableMandates           3.543964e-05\n",
       "votersPercentage            1.718734e-05\n",
       "pre.nullVotesPercentage     1.331481e-05\n",
       "totalVoters                 5.704970e-06\n",
       "pre.votersPercentage        1.837811e-06\n",
       "pre.blankVotes              2.692716e-16\n",
       "pre.totalVoters             1.864620e-16\n",
       "blankVotes                  1.614898e-16\n",
       "pre.nullVotes               1.057884e-17\n",
       "Mandates                    4.440969e-18\n",
       "pre.subscribedVoters        1.539200e-18\n",
       "nullVotes                   2.838688e-20\n",
       "subscribedVoters           -8.234166e-18\n",
       "dtype: float64"
      ]
     },
     "execution_count": 239,
     "metadata": {},
     "output_type": "execute_result"
    }
   ],
   "source": [
    "feature_imp = pd.Series(dt.feature_importances_,index=x_train.columns).sort_values(ascending=False)\n",
    "feature_imp\n",
    "#Analyzing feature importance, as done with feature_imp, \n",
    "#allows managers to understand which variables have the most significant impact on a model’s predictions."
   ]
  },
  {
   "cell_type": "code",
   "execution_count": null,
   "id": "42d509e3-ade1-4ad7-bc99-20499912676a",
   "metadata": {},
   "outputs": [],
   "source": [
    "#Selecting specified columns from the DataFrame `df` to create `df1`.\n",
    "#Repeating the same process from above."
   ]
  },
  {
   "cell_type": "code",
   "execution_count": 241,
   "id": "5fef5382-2cbc-426c-9c72-4f7e56ec7bc7",
   "metadata": {},
   "outputs": [],
   "source": [
    "df1=df[['blankVotesPercentage','nullVotesPercentage','pre.totalVoters','Mandates','Percentage','validVotesPercentage','Votes','Hondt']]"
   ]
  },
  {
   "cell_type": "code",
   "execution_count": 243,
   "id": "9680f803-7c84-4049-8c38-7785ac0cec4c",
   "metadata": {},
   "outputs": [
    {
     "data": {
      "text/html": [
       "<div>\n",
       "<style scoped>\n",
       "    .dataframe tbody tr th:only-of-type {\n",
       "        vertical-align: middle;\n",
       "    }\n",
       "\n",
       "    .dataframe tbody tr th {\n",
       "        vertical-align: top;\n",
       "    }\n",
       "\n",
       "    .dataframe thead th {\n",
       "        text-align: right;\n",
       "    }\n",
       "</style>\n",
       "<table border=\"1\" class=\"dataframe\">\n",
       "  <thead>\n",
       "    <tr style=\"text-align: right;\">\n",
       "      <th></th>\n",
       "      <th>blankVotesPercentage</th>\n",
       "      <th>nullVotesPercentage</th>\n",
       "      <th>pre.totalVoters</th>\n",
       "      <th>Mandates</th>\n",
       "      <th>Percentage</th>\n",
       "      <th>validVotesPercentage</th>\n",
       "      <th>Votes</th>\n",
       "      <th>Hondt</th>\n",
       "    </tr>\n",
       "  </thead>\n",
       "  <tbody>\n",
       "    <tr>\n",
       "      <th>0</th>\n",
       "      <td>-0.152941</td>\n",
       "      <td>2.3</td>\n",
       "      <td>0.078796</td>\n",
       "      <td>-0.127891</td>\n",
       "      <td>3.210250</td>\n",
       "      <td>3.217832</td>\n",
       "      <td>1.419284</td>\n",
       "      <td>14.757327</td>\n",
       "    </tr>\n",
       "    <tr>\n",
       "      <th>1</th>\n",
       "      <td>-0.152941</td>\n",
       "      <td>2.3</td>\n",
       "      <td>0.078796</td>\n",
       "      <td>-0.127891</td>\n",
       "      <td>2.727578</td>\n",
       "      <td>2.733495</td>\n",
       "      <td>1.211248</td>\n",
       "      <td>12.691673</td>\n",
       "    </tr>\n",
       "  </tbody>\n",
       "</table>\n",
       "</div>"
      ],
      "text/plain": [
       "   blankVotesPercentage  nullVotesPercentage  pre.totalVoters  Mandates  \\\n",
       "0             -0.152941                  2.3         0.078796 -0.127891   \n",
       "1             -0.152941                  2.3         0.078796 -0.127891   \n",
       "\n",
       "   Percentage  validVotesPercentage     Votes      Hondt  \n",
       "0    3.210250              3.217832  1.419284  14.757327  \n",
       "1    2.727578              2.733495  1.211248  12.691673  "
      ]
     },
     "execution_count": 243,
     "metadata": {},
     "output_type": "execute_result"
    }
   ],
   "source": [
    "df1.head(2)"
   ]
  },
  {
   "cell_type": "code",
   "execution_count": 245,
   "id": "92cec7ce-f0ee-44e8-89b2-1a1051c7ee2a",
   "metadata": {},
   "outputs": [
    {
     "data": {
      "text/plain": [
       "Index(['blankVotesPercentage', 'nullVotesPercentage', 'pre.totalVoters',\n",
       "       'Mandates', 'Percentage', 'validVotesPercentage', 'Votes', 'Hondt'],\n",
       "      dtype='object')"
      ]
     },
     "execution_count": 245,
     "metadata": {},
     "output_type": "execute_result"
    }
   ],
   "source": [
    "df1.columns"
   ]
  },
  {
   "cell_type": "code",
   "execution_count": 247,
   "id": "c1fbd50f-3b53-420c-91d6-86029993dfeb",
   "metadata": {},
   "outputs": [],
   "source": [
    "x1=df1[['blankVotesPercentage', 'nullVotesPercentage',\n",
    "       'pre.totalVoters', 'Mandates', 'Percentage', 'validVotesPercentage',\n",
    "       'Votes', 'Hondt']]\n",
    "y1=df['FinalMandates']"
   ]
  },
  {
   "cell_type": "code",
   "execution_count": 249,
   "id": "43cd3d62-1207-4d48-821c-814f28832880",
   "metadata": {},
   "outputs": [],
   "source": [
    "x1_train,x1_test,y1_train,y1_test = train_test_split(x1,y1,test_size=0.2)"
   ]
  },
  {
   "cell_type": "code",
   "execution_count": 251,
   "id": "8da52d6c-b5d0-4d6b-859d-c377e0413c54",
   "metadata": {},
   "outputs": [
    {
     "data": {
      "text/plain": [
       "(17314, 8)"
      ]
     },
     "execution_count": 251,
     "metadata": {},
     "output_type": "execute_result"
    }
   ],
   "source": [
    "x1_train.shape"
   ]
  },
  {
   "cell_type": "code",
   "execution_count": 253,
   "id": "4a9f874c-6570-473f-85e8-7099dbcf040f",
   "metadata": {},
   "outputs": [
    {
     "data": {
      "text/plain": [
       "(4329, 8)"
      ]
     },
     "execution_count": 253,
     "metadata": {},
     "output_type": "execute_result"
    }
   ],
   "source": [
    "x1_test.shape"
   ]
  },
  {
   "cell_type": "code",
   "execution_count": 255,
   "id": "a2d6e842-0527-489e-bbcf-0d14db399ef3",
   "metadata": {},
   "outputs": [],
   "source": [
    "from sklearn.tree import DecisionTreeRegressor \n",
    "dt1 = DecisionTreeRegressor()"
   ]
  },
  {
   "cell_type": "code",
   "execution_count": 257,
   "id": "ec4ccd27-b3a7-4cb9-a0a6-340dd42ed42b",
   "metadata": {},
   "outputs": [
    {
     "data": {
      "text/html": [
       "<style>#sk-container-id-7 {color: black;}#sk-container-id-7 pre{padding: 0;}#sk-container-id-7 div.sk-toggleable {background-color: white;}#sk-container-id-7 label.sk-toggleable__label {cursor: pointer;display: block;width: 100%;margin-bottom: 0;padding: 0.3em;box-sizing: border-box;text-align: center;}#sk-container-id-7 label.sk-toggleable__label-arrow:before {content: \"▸\";float: left;margin-right: 0.25em;color: #696969;}#sk-container-id-7 label.sk-toggleable__label-arrow:hover:before {color: black;}#sk-container-id-7 div.sk-estimator:hover label.sk-toggleable__label-arrow:before {color: black;}#sk-container-id-7 div.sk-toggleable__content {max-height: 0;max-width: 0;overflow: hidden;text-align: left;background-color: #f0f8ff;}#sk-container-id-7 div.sk-toggleable__content pre {margin: 0.2em;color: black;border-radius: 0.25em;background-color: #f0f8ff;}#sk-container-id-7 input.sk-toggleable__control:checked~div.sk-toggleable__content {max-height: 200px;max-width: 100%;overflow: auto;}#sk-container-id-7 input.sk-toggleable__control:checked~label.sk-toggleable__label-arrow:before {content: \"▾\";}#sk-container-id-7 div.sk-estimator input.sk-toggleable__control:checked~label.sk-toggleable__label {background-color: #d4ebff;}#sk-container-id-7 div.sk-label input.sk-toggleable__control:checked~label.sk-toggleable__label {background-color: #d4ebff;}#sk-container-id-7 input.sk-hidden--visually {border: 0;clip: rect(1px 1px 1px 1px);clip: rect(1px, 1px, 1px, 1px);height: 1px;margin: -1px;overflow: hidden;padding: 0;position: absolute;width: 1px;}#sk-container-id-7 div.sk-estimator {font-family: monospace;background-color: #f0f8ff;border: 1px dotted black;border-radius: 0.25em;box-sizing: border-box;margin-bottom: 0.5em;}#sk-container-id-7 div.sk-estimator:hover {background-color: #d4ebff;}#sk-container-id-7 div.sk-parallel-item::after {content: \"\";width: 100%;border-bottom: 1px solid gray;flex-grow: 1;}#sk-container-id-7 div.sk-label:hover label.sk-toggleable__label {background-color: #d4ebff;}#sk-container-id-7 div.sk-serial::before {content: \"\";position: absolute;border-left: 1px solid gray;box-sizing: border-box;top: 0;bottom: 0;left: 50%;z-index: 0;}#sk-container-id-7 div.sk-serial {display: flex;flex-direction: column;align-items: center;background-color: white;padding-right: 0.2em;padding-left: 0.2em;position: relative;}#sk-container-id-7 div.sk-item {position: relative;z-index: 1;}#sk-container-id-7 div.sk-parallel {display: flex;align-items: stretch;justify-content: center;background-color: white;position: relative;}#sk-container-id-7 div.sk-item::before, #sk-container-id-7 div.sk-parallel-item::before {content: \"\";position: absolute;border-left: 1px solid gray;box-sizing: border-box;top: 0;bottom: 0;left: 50%;z-index: -1;}#sk-container-id-7 div.sk-parallel-item {display: flex;flex-direction: column;z-index: 1;position: relative;background-color: white;}#sk-container-id-7 div.sk-parallel-item:first-child::after {align-self: flex-end;width: 50%;}#sk-container-id-7 div.sk-parallel-item:last-child::after {align-self: flex-start;width: 50%;}#sk-container-id-7 div.sk-parallel-item:only-child::after {width: 0;}#sk-container-id-7 div.sk-dashed-wrapped {border: 1px dashed gray;margin: 0 0.4em 0.5em 0.4em;box-sizing: border-box;padding-bottom: 0.4em;background-color: white;}#sk-container-id-7 div.sk-label label {font-family: monospace;font-weight: bold;display: inline-block;line-height: 1.2em;}#sk-container-id-7 div.sk-label-container {text-align: center;}#sk-container-id-7 div.sk-container {/* jupyter's `normalize.less` sets `[hidden] { display: none; }` but bootstrap.min.css set `[hidden] { display: none !important; }` so we also need the `!important` here to be able to override the default hidden behavior on the sphinx rendered scikit-learn.org. See: https://github.com/scikit-learn/scikit-learn/issues/21755 */display: inline-block !important;position: relative;}#sk-container-id-7 div.sk-text-repr-fallback {display: none;}</style><div id=\"sk-container-id-7\" class=\"sk-top-container\"><div class=\"sk-text-repr-fallback\"><pre>DecisionTreeRegressor()</pre><b>In a Jupyter environment, please rerun this cell to show the HTML representation or trust the notebook. <br />On GitHub, the HTML representation is unable to render, please try loading this page with nbviewer.org.</b></div><div class=\"sk-container\" hidden><div class=\"sk-item\"><div class=\"sk-estimator sk-toggleable\"><input class=\"sk-toggleable__control sk-hidden--visually\" id=\"sk-estimator-id-7\" type=\"checkbox\" checked><label for=\"sk-estimator-id-7\" class=\"sk-toggleable__label sk-toggleable__label-arrow\">DecisionTreeRegressor</label><div class=\"sk-toggleable__content\"><pre>DecisionTreeRegressor()</pre></div></div></div></div></div>"
      ],
      "text/plain": [
       "DecisionTreeRegressor()"
      ]
     },
     "execution_count": 257,
     "metadata": {},
     "output_type": "execute_result"
    }
   ],
   "source": [
    "dt1.fit(x1_train,y1_train)"
   ]
  },
  {
   "cell_type": "code",
   "execution_count": 259,
   "id": "7c2921f6-1887-4815-a6a7-1a01dd43f18a",
   "metadata": {},
   "outputs": [],
   "source": [
    "y_pred1 = dt1.predict(x1_test)"
   ]
  },
  {
   "cell_type": "code",
   "execution_count": 261,
   "id": "a89b35d2-d762-4e5a-af9d-c09056550c00",
   "metadata": {},
   "outputs": [
    {
     "data": {
      "text/plain": [
       "array([-0.1638618 , -0.1638618 , -0.01835403, ..., -0.1638618 ,\n",
       "       -0.1638618 , -0.1638618 ])"
      ]
     },
     "execution_count": 261,
     "metadata": {},
     "output_type": "execute_result"
    }
   ],
   "source": [
    "y_pred1"
   ]
  },
  {
   "cell_type": "code",
   "execution_count": 263,
   "id": "196f9e9f-4118-4f49-a47d-72a95a50bcd4",
   "metadata": {},
   "outputs": [
    {
     "data": {
      "text/plain": [
       "7436    -0.163862\n",
       "16193   -0.163862\n",
       "18024   -0.018354\n",
       "7834    -0.163862\n",
       "17489   -0.163862\n",
       "           ...   \n",
       "20633   -0.163862\n",
       "11619   -0.163862\n",
       "1076    -0.163862\n",
       "355     -0.163862\n",
       "19749   -0.163862\n",
       "Name: FinalMandates, Length: 4329, dtype: float64"
      ]
     },
     "execution_count": 263,
     "metadata": {},
     "output_type": "execute_result"
    }
   ],
   "source": [
    "y1_test"
   ]
  },
  {
   "cell_type": "code",
   "execution_count": 265,
   "id": "41b6e398-cf9f-435d-af4e-cccfdac53bb7",
   "metadata": {},
   "outputs": [
    {
     "data": {
      "text/plain": [
       "0.0009717018792516306"
      ]
     },
     "execution_count": 265,
     "metadata": {},
     "output_type": "execute_result"
    }
   ],
   "source": [
    "mean_absolute_error(y1_test, y_pred1)"
   ]
  },
  {
   "cell_type": "code",
   "execution_count": 267,
   "id": "5c6137c7-797c-4a7b-82be-b8d80b5606b3",
   "metadata": {},
   "outputs": [
    {
     "data": {
      "text/plain": [
       "0.0003486654263918599"
      ]
     },
     "execution_count": 267,
     "metadata": {},
     "output_type": "execute_result"
    }
   ],
   "source": [
    "mean_squared_error(y1_test, y_pred1)"
   ]
  },
  {
   "cell_type": "code",
   "execution_count": 269,
   "id": "4b979bb8-edfd-4d6e-a6a7-99aea0d66c96",
   "metadata": {},
   "outputs": [
    {
     "data": {
      "text/plain": [
       "Hondt                   0.974542\n",
       "Percentage              0.023127\n",
       "blankVotesPercentage    0.001628\n",
       "validVotesPercentage    0.000222\n",
       "pre.totalVoters         0.000192\n",
       "nullVotesPercentage     0.000158\n",
       "Votes                   0.000130\n",
       "Mandates                0.000000\n",
       "dtype: float64"
      ]
     },
     "execution_count": 269,
     "metadata": {},
     "output_type": "execute_result"
    }
   ],
   "source": [
    "feature_imp = pd.Series(dt1.feature_importances_,index=x1_train.columns).sort_values(ascending=False)\n",
    "feature_imp"
   ]
  },
  {
   "cell_type": "code",
   "execution_count": null,
   "id": "eb6a9f31-5628-40a7-b1a0-da6d5000c370",
   "metadata": {},
   "outputs": [],
   "source": [
    "#visualizing feature importance."
   ]
  },
  {
   "cell_type": "code",
   "execution_count": 271,
   "id": "cf56438e-0c73-4a46-8d2b-1bcb388c3a8a",
   "metadata": {},
   "outputs": [
    {
     "name": "stderr",
     "output_type": "stream",
     "text": [
      "No artists with labels found to put in legend.  Note that artists whose label start with an underscore are ignored when legend() is called with no argument.\n"
     ]
    },
    {
     "data": {
      "image/png": "[encoded data removed]",
      "text/plain": [
       "<Figure size 640x480 with 1 Axes>"
      ]
     },
     "metadata": {},
     "output_type": "display_data"
    }
   ],
   "source": [
    "import matplotlib.pyplot as plt\n",
    "import seaborn as sns\n",
    "%matplotlib inline\n",
    "# Creating a bar plot\n",
    "sns.barplot(x=feature_imp, y=feature_imp.index)\n",
    "# Add labels to your graph\n",
    "plt.xlabel('Feature Importance Score')\n",
    "plt.ylabel('Features')\n",
    "plt.title(\"Visualizing Important Features\")\n",
    "plt.legend()\n",
    "plt.show()"
   ]
  },
  {
   "cell_type": "code",
   "execution_count": null,
   "id": "c45c7eb0-a174-4378-95b2-4d0777b97313",
   "metadata": {},
   "outputs": [],
   "source": [
    "#In this graph Hondt has the most impact"
   ]
  },
  {
   "cell_type": "code",
   "execution_count": 273,
   "id": "b4adc6da-c160-48cf-a4c3-d792fd5314a2",
   "metadata": {},
   "outputs": [],
   "source": [
    "from sklearn.tree import plot_tree "
   ]
  },
  {
   "cell_type": "code",
   "execution_count": 275,
   "id": "0919189d-8435-4156-9bee-28e7961d4600",
   "metadata": {},
   "outputs": [],
   "source": [
    "from sklearn.ensemble import RandomForestRegressor\n",
    "clf1=RandomForestRegressor(n_estimators=100) #importing RandomForestRegressor and repeating the same process that we did in decision tree regressor."
   ]
  },
  {
   "cell_type": "code",
   "execution_count": 277,
   "id": "0f9dfa54-ba29-4304-b0a4-a3b00a2f88c0",
   "metadata": {},
   "outputs": [
    {
     "data": {
      "text/html": [
       "<style>#sk-container-id-8 {color: black;}#sk-container-id-8 pre{padding: 0;}#sk-container-id-8 div.sk-toggleable {background-color: white;}#sk-container-id-8 label.sk-toggleable__label {cursor: pointer;display: block;width: 100%;margin-bottom: 0;padding: 0.3em;box-sizing: border-box;text-align: center;}#sk-container-id-8 label.sk-toggleable__label-arrow:before {content: \"▸\";float: left;margin-right: 0.25em;color: #696969;}#sk-container-id-8 label.sk-toggleable__label-arrow:hover:before {color: black;}#sk-container-id-8 div.sk-estimator:hover label.sk-toggleable__label-arrow:before {color: black;}#sk-container-id-8 div.sk-toggleable__content {max-height: 0;max-width: 0;overflow: hidden;text-align: left;background-color: #f0f8ff;}#sk-container-id-8 div.sk-toggleable__content pre {margin: 0.2em;color: black;border-radius: 0.25em;background-color: #f0f8ff;}#sk-container-id-8 input.sk-toggleable__control:checked~div.sk-toggleable__content {max-height: 200px;max-width: 100%;overflow: auto;}#sk-container-id-8 input.sk-toggleable__control:checked~label.sk-toggleable__label-arrow:before {content: \"▾\";}#sk-container-id-8 div.sk-estimator input.sk-toggleable__control:checked~label.sk-toggleable__label {background-color: #d4ebff;}#sk-container-id-8 div.sk-label input.sk-toggleable__control:checked~label.sk-toggleable__label {background-color: #d4ebff;}#sk-container-id-8 input.sk-hidden--visually {border: 0;clip: rect(1px 1px 1px 1px);clip: rect(1px, 1px, 1px, 1px);height: 1px;margin: -1px;overflow: hidden;padding: 0;position: absolute;width: 1px;}#sk-container-id-8 div.sk-estimator {font-family: monospace;background-color: #f0f8ff;border: 1px dotted black;border-radius: 0.25em;box-sizing: border-box;margin-bottom: 0.5em;}#sk-container-id-8 div.sk-estimator:hover {background-color: #d4ebff;}#sk-container-id-8 div.sk-parallel-item::after {content: \"\";width: 100%;border-bottom: 1px solid gray;flex-grow: 1;}#sk-container-id-8 div.sk-label:hover label.sk-toggleable__label {background-color: #d4ebff;}#sk-container-id-8 div.sk-serial::before {content: \"\";position: absolute;border-left: 1px solid gray;box-sizing: border-box;top: 0;bottom: 0;left: 50%;z-index: 0;}#sk-container-id-8 div.sk-serial {display: flex;flex-direction: column;align-items: center;background-color: white;padding-right: 0.2em;padding-left: 0.2em;position: relative;}#sk-container-id-8 div.sk-item {position: relative;z-index: 1;}#sk-container-id-8 div.sk-parallel {display: flex;align-items: stretch;justify-content: center;background-color: white;position: relative;}#sk-container-id-8 div.sk-item::before, #sk-container-id-8 div.sk-parallel-item::before {content: \"\";position: absolute;border-left: 1px solid gray;box-sizing: border-box;top: 0;bottom: 0;left: 50%;z-index: -1;}#sk-container-id-8 div.sk-parallel-item {display: flex;flex-direction: column;z-index: 1;position: relative;background-color: white;}#sk-container-id-8 div.sk-parallel-item:first-child::after {align-self: flex-end;width: 50%;}#sk-container-id-8 div.sk-parallel-item:last-child::after {align-self: flex-start;width: 50%;}#sk-container-id-8 div.sk-parallel-item:only-child::after {width: 0;}#sk-container-id-8 div.sk-dashed-wrapped {border: 1px dashed gray;margin: 0 0.4em 0.5em 0.4em;box-sizing: border-box;padding-bottom: 0.4em;background-color: white;}#sk-container-id-8 div.sk-label label {font-family: monospace;font-weight: bold;display: inline-block;line-height: 1.2em;}#sk-container-id-8 div.sk-label-container {text-align: center;}#sk-container-id-8 div.sk-container {/* jupyter's `normalize.less` sets `[hidden] { display: none; }` but bootstrap.min.css set `[hidden] { display: none !important; }` so we also need the `!important` here to be able to override the default hidden behavior on the sphinx rendered scikit-learn.org. See: https://github.com/scikit-learn/scikit-learn/issues/21755 */display: inline-block !important;position: relative;}#sk-container-id-8 div.sk-text-repr-fallback {display: none;}</style><div id=\"sk-container-id-8\" class=\"sk-top-container\"><div class=\"sk-text-repr-fallback\"><pre>RandomForestRegressor()</pre><b>In a Jupyter environment, please rerun this cell to show the HTML representation or trust the notebook. <br />On GitHub, the HTML representation is unable to render, please try loading this page with nbviewer.org.</b></div><div class=\"sk-container\" hidden><div class=\"sk-item\"><div class=\"sk-estimator sk-toggleable\"><input class=\"sk-toggleable__control sk-hidden--visually\" id=\"sk-estimator-id-8\" type=\"checkbox\" checked><label for=\"sk-estimator-id-8\" class=\"sk-toggleable__label sk-toggleable__label-arrow\">RandomForestRegressor</label><div class=\"sk-toggleable__content\"><pre>RandomForestRegressor()</pre></div></div></div></div></div>"
      ],
      "text/plain": [
       "RandomForestRegressor()"
      ]
     },
     "execution_count": 277,
     "metadata": {},
     "output_type": "execute_result"
    }
   ],
   "source": [
    "clf1.fit(x1_train,y1_train)"
   ]
  },
  {
   "cell_type": "code",
   "execution_count": 278,
   "id": "3ac60473-0a5b-43ad-937d-afa0fe260339",
   "metadata": {},
   "outputs": [],
   "source": [
    "y_pred2=clf1.predict(x1_test)"
   ]
  },
  {
   "cell_type": "code",
   "execution_count": 279,
   "id": "1bbcf972-b989-42ce-8fb2-4d8ffe1750e8",
   "metadata": {},
   "outputs": [
    {
     "data": {
      "text/plain": [
       "array([-0.1638618 , -0.1638618 , -0.01835403, ..., -0.1638618 ,\n",
       "       -0.1638618 , -0.1638618 ])"
      ]
     },
     "execution_count": 279,
     "metadata": {},
     "output_type": "execute_result"
    }
   ],
   "source": [
    "y_pred2"
   ]
  },
  {
   "cell_type": "code",
   "execution_count": 280,
   "id": "0d236d43-2a7a-4681-b43c-fdaabe173977",
   "metadata": {},
   "outputs": [
    {
     "data": {
      "text/plain": [
       "7436    -0.163862\n",
       "16193   -0.163862\n",
       "18024   -0.018354\n",
       "7834    -0.163862\n",
       "17489   -0.163862\n",
       "           ...   \n",
       "20633   -0.163862\n",
       "11619   -0.163862\n",
       "1076    -0.163862\n",
       "355     -0.163862\n",
       "19749   -0.163862\n",
       "Name: FinalMandates, Length: 4329, dtype: float64"
      ]
     },
     "execution_count": 280,
     "metadata": {},
     "output_type": "execute_result"
    }
   ],
   "source": [
    "y1_test"
   ]
  },
  {
   "cell_type": "code",
   "execution_count": 281,
   "id": "4980cb37-4e38-41a1-96af-7e73c97b9eba",
   "metadata": {},
   "outputs": [
    {
     "data": {
      "text/plain": [
       "0.0012977051690564122"
      ]
     },
     "execution_count": 281,
     "metadata": {},
     "output_type": "execute_result"
    }
   ],
   "source": [
    "mean_absolute_error(y1_test, y_pred2)"
   ]
  },
  {
   "cell_type": "code",
   "execution_count": 282,
   "id": "a55efacb-0418-4d70-b258-668b36f7bf48",
   "metadata": {},
   "outputs": [
    {
     "data": {
      "text/plain": [
       "0.00015566966277625902"
      ]
     },
     "execution_count": 282,
     "metadata": {},
     "output_type": "execute_result"
    }
   ],
   "source": [
    "mean_squared_error(y1_test, y_pred2)"
   ]
  },
  {
   "cell_type": "code",
   "execution_count": 283,
   "id": "ee285e1f-43c9-426d-876a-2d280358e196",
   "metadata": {},
   "outputs": [
    {
     "name": "stdout",
     "output_type": "stream",
     "text": [
      "[1.07849299e-03 1.10199125e-04 4.56592893e-04 5.05174276e-06\n",
      " 7.82915941e-03 8.71578645e-03 1.76110124e-04 9.81628607e-01]\n"
     ]
    }
   ],
   "source": [
    "print(clf1.feature_importances_)"
   ]
  },
  {
   "cell_type": "code",
   "execution_count": 284,
   "id": "cb9b838e-726f-4903-8955-4dcf64c399ea",
   "metadata": {},
   "outputs": [],
   "source": [
    "from sklearn import tree #Importing the Tree for creating and visualizing random forest."
   ]
  },
  {
   "cell_type": "code",
   "execution_count": 285,
   "id": "20fe23e5-924c-46dd-97ef-c00e00dea673",
   "metadata": {},
   "outputs": [
    {
     "data": {
      "image/png": "[encoded data removed]",
      "text/plain": [
       "<Figure size 9000x1800 with 5 Axes>"
      ]
     },
     "metadata": {},
     "output_type": "display_data"
    },
    {
     "data": {
      "text/plain": [
       "<Figure size 640x480 with 0 Axes>"
      ]
     },
     "metadata": {},
     "output_type": "display_data"
    },
    {
     "data": {
      "text/plain": [
       "<Figure size 640x480 with 0 Axes>"
      ]
     },
     "metadata": {},
     "output_type": "display_data"
    },
    {
     "data": {
      "text/plain": [
       "<Figure size 640x480 with 0 Axes>"
      ]
     },
     "metadata": {},
     "output_type": "display_data"
    },
    {
     "data": {
      "text/plain": [
       "<Figure size 640x480 with 0 Axes>"
      ]
     },
     "metadata": {},
     "output_type": "display_data"
    }
   ],
   "source": [
    "#Creates a figure with one subplot.\n",
    "#Sets the figure size to 10/2 inches.\n",
    "#Sets the dots per Inch (DPI) to 900 for higher resolution.\n",
    "fig, axes = plt.subplots(nrows = 1,ncols = 5,figsize = (10,2), dpi=900)\n",
    "for index in range(0, 5):\n",
    "    tree.plot_tree(clf1.estimators_[index],\n",
    "                   max_depth=2,\n",
    "                   feature_names = ['Hondt','validVotesPercentage','blankVotesPercentage','Votes','Percentage','nullVotesPercentage', 'pre.totalVoters','Mandates'], \n",
    "                   class_names=[\"0\",\"1\",\"2\",\"3\",\"4\",\"5\",\"6\",\"7\",\"8\",\"9\",\"12\",\"15\",\"17\",\"19\",\"20\",\"77\",\"106\"],\n",
    "                   filled = True,\n",
    "                   ax = axes[index])\n",
    "\n",
    "    axes[index].set_title('Estimator: ' + str(index), fontsize = 11)\n",
    "    plt.tight_layout()\n",
    "    plt.show()"
   ]
  },
  {
   "cell_type": "code",
   "execution_count": null,
   "id": "7759b4dc-9a1e-4d48-ab0b-25c45d5ce9fb",
   "metadata": {},
   "outputs": [],
   "source": [
    "#We were able to plot only one Decision tree from the randomforest model.\n",
    "#It essentially becomes a single decision tree model, losing the key benefits of the ensemble approach. \n",
    "#With only one tree, the model may not generalize well, is more prone to overfitting, and lacks the stability and improved performance provided by the ensemble method."
   ]
  },
  {
   "cell_type": "code",
   "execution_count": 286,
   "id": "875b9849-3e1f-4db9-99c8-30b666080eb5",
   "metadata": {},
   "outputs": [],
   "source": [
    "from sklearn.neighbors import KNeighborsRegressor\n",
    "from matplotlib import pyplot as plt\n",
    "#imports KNeighborsRegressor for performing regression using the k-nearest neighbors algorithm, which predicts target values by averaging the outcomes of the k closest training samples. "
   ]
  },
  {
   "cell_type": "code",
   "execution_count": 287,
   "id": "a247e893-e194-46c8-a25a-50d4c53dfd44",
   "metadata": {},
   "outputs": [
    {
     "data": {
      "image/png": "[encoded data removed]",
      "text/plain": [
       "<Figure size 1000x600 with 1 Axes>"
      ]
     },
     "metadata": {},
     "output_type": "display_data"
    },
    {
     "name": "stdout",
     "output_type": "stream",
     "text": [
      "Minimum error:- 0.0002885604543254679 at K = 2\n"
     ]
    }
   ],
   "source": [
    "error_rate = []\n",
    "for i in range(1,40):\n",
    " knn = KNeighborsRegressor(n_neighbors=i)\n",
    " knn.fit(x1_train,y1_train)\n",
    " pred_i = knn.predict(x1_test)\n",
    " error_rate.append(mean_squared_error(y1_test, pred_i))\n",
    "\n",
    "plt.figure(figsize=(10,6))\n",
    "plt.plot(range(1,40),error_rate,color='blue', linestyle='dashed', \n",
    "         marker='o',markerfacecolor='red', markersize=10)\n",
    "plt.title('Error Rate vs. K Value')\n",
    "plt.xlabel('K')\n",
    "plt.ylabel('Error Rate')\n",
    "plt.show()\n",
    "print(\"Minimum error:-\",min(error_rate),\"at K =\",error_rate.index(min(error_rate))+1)"
   ]
  },
  {
   "cell_type": "code",
   "execution_count": null,
   "id": "dc5af51a-984b-41f8-8da2-793499ff9785",
   "metadata": {},
   "outputs": [],
   "source": [
    "#The optimal K value appears to be in the lower range, potentially around 1 to 10, where the error rate is minimal."
   ]
  },
  {
   "cell_type": "code",
   "execution_count": 288,
   "id": "9f926ff4-0ef6-4d70-b36f-7c66ded39c8e",
   "metadata": {},
   "outputs": [
    {
     "data": {
      "text/html": [
       "<style>#sk-container-id-9 {color: black;}#sk-container-id-9 pre{padding: 0;}#sk-container-id-9 div.sk-toggleable {background-color: white;}#sk-container-id-9 label.sk-toggleable__label {cursor: pointer;display: block;width: 100%;margin-bottom: 0;padding: 0.3em;box-sizing: border-box;text-align: center;}#sk-container-id-9 label.sk-toggleable__label-arrow:before {content: \"▸\";float: left;margin-right: 0.25em;color: #696969;}#sk-container-id-9 label.sk-toggleable__label-arrow:hover:before {color: black;}#sk-container-id-9 div.sk-estimator:hover label.sk-toggleable__label-arrow:before {color: black;}#sk-container-id-9 div.sk-toggleable__content {max-height: 0;max-width: 0;overflow: hidden;text-align: left;background-color: #f0f8ff;}#sk-container-id-9 div.sk-toggleable__content pre {margin: 0.2em;color: black;border-radius: 0.25em;background-color: #f0f8ff;}#sk-container-id-9 input.sk-toggleable__control:checked~div.sk-toggleable__content {max-height: 200px;max-width: 100%;overflow: auto;}#sk-container-id-9 input.sk-toggleable__control:checked~label.sk-toggleable__label-arrow:before {content: \"▾\";}#sk-container-id-9 div.sk-estimator input.sk-toggleable__control:checked~label.sk-toggleable__label {background-color: #d4ebff;}#sk-container-id-9 div.sk-label input.sk-toggleable__control:checked~label.sk-toggleable__label {background-color: #d4ebff;}#sk-container-id-9 input.sk-hidden--visually {border: 0;clip: rect(1px 1px 1px 1px);clip: rect(1px, 1px, 1px, 1px);height: 1px;margin: -1px;overflow: hidden;padding: 0;position: absolute;width: 1px;}#sk-container-id-9 div.sk-estimator {font-family: monospace;background-color: #f0f8ff;border: 1px dotted black;border-radius: 0.25em;box-sizing: border-box;margin-bottom: 0.5em;}#sk-container-id-9 div.sk-estimator:hover {background-color: #d4ebff;}#sk-container-id-9 div.sk-parallel-item::after {content: \"\";width: 100%;border-bottom: 1px solid gray;flex-grow: 1;}#sk-container-id-9 div.sk-label:hover label.sk-toggleable__label {background-color: #d4ebff;}#sk-container-id-9 div.sk-serial::before {content: \"\";position: absolute;border-left: 1px solid gray;box-sizing: border-box;top: 0;bottom: 0;left: 50%;z-index: 0;}#sk-container-id-9 div.sk-serial {display: flex;flex-direction: column;align-items: center;background-color: white;padding-right: 0.2em;padding-left: 0.2em;position: relative;}#sk-container-id-9 div.sk-item {position: relative;z-index: 1;}#sk-container-id-9 div.sk-parallel {display: flex;align-items: stretch;justify-content: center;background-color: white;position: relative;}#sk-container-id-9 div.sk-item::before, #sk-container-id-9 div.sk-parallel-item::before {content: \"\";position: absolute;border-left: 1px solid gray;box-sizing: border-box;top: 0;bottom: 0;left: 50%;z-index: -1;}#sk-container-id-9 div.sk-parallel-item {display: flex;flex-direction: column;z-index: 1;position: relative;background-color: white;}#sk-container-id-9 div.sk-parallel-item:first-child::after {align-self: flex-end;width: 50%;}#sk-container-id-9 div.sk-parallel-item:last-child::after {align-self: flex-start;width: 50%;}#sk-container-id-9 div.sk-parallel-item:only-child::after {width: 0;}#sk-container-id-9 div.sk-dashed-wrapped {border: 1px dashed gray;margin: 0 0.4em 0.5em 0.4em;box-sizing: border-box;padding-bottom: 0.4em;background-color: white;}#sk-container-id-9 div.sk-label label {font-family: monospace;font-weight: bold;display: inline-block;line-height: 1.2em;}#sk-container-id-9 div.sk-label-container {text-align: center;}#sk-container-id-9 div.sk-container {/* jupyter's `normalize.less` sets `[hidden] { display: none; }` but bootstrap.min.css set `[hidden] { display: none !important; }` so we also need the `!important` here to be able to override the default hidden behavior on the sphinx rendered scikit-learn.org. See: https://github.com/scikit-learn/scikit-learn/issues/21755 */display: inline-block !important;position: relative;}#sk-container-id-9 div.sk-text-repr-fallback {display: none;}</style><div id=\"sk-container-id-9\" class=\"sk-top-container\"><div class=\"sk-text-repr-fallback\"><pre>KNeighborsRegressor(n_neighbors=39)</pre><b>In a Jupyter environment, please rerun this cell to show the HTML representation or trust the notebook. <br />On GitHub, the HTML representation is unable to render, please try loading this page with nbviewer.org.</b></div><div class=\"sk-container\" hidden><div class=\"sk-item\"><div class=\"sk-estimator sk-toggleable\"><input class=\"sk-toggleable__control sk-hidden--visually\" id=\"sk-estimator-id-9\" type=\"checkbox\" checked><label for=\"sk-estimator-id-9\" class=\"sk-toggleable__label sk-toggleable__label-arrow\">KNeighborsRegressor</label><div class=\"sk-toggleable__content\"><pre>KNeighborsRegressor(n_neighbors=39)</pre></div></div></div></div></div>"
      ],
      "text/plain": [
       "KNeighborsRegressor(n_neighbors=39)"
      ]
     },
     "execution_count": 288,
     "metadata": {},
     "output_type": "execute_result"
    }
   ],
   "source": [
    "knn.fit(x1_train, y1_train)"
   ]
  },
  {
   "cell_type": "code",
   "execution_count": 297,
   "id": "42a6b611-229d-41ec-8a30-b83c3c0515dc",
   "metadata": {},
   "outputs": [
    {
     "data": {
      "text/html": [
       "<div>\n",
       "<style scoped>\n",
       "    .dataframe tbody tr th:only-of-type {\n",
       "        vertical-align: middle;\n",
       "    }\n",
       "\n",
       "    .dataframe tbody tr th {\n",
       "        vertical-align: top;\n",
       "    }\n",
       "\n",
       "    .dataframe thead th {\n",
       "        text-align: right;\n",
       "    }\n",
       "</style>\n",
       "<table border=\"1\" class=\"dataframe\">\n",
       "  <thead>\n",
       "    <tr style=\"text-align: right;\">\n",
       "      <th></th>\n",
       "      <th>blankVotesPercentage</th>\n",
       "      <th>nullVotesPercentage</th>\n",
       "      <th>pre.totalVoters</th>\n",
       "      <th>Mandates</th>\n",
       "      <th>Percentage</th>\n",
       "      <th>validVotesPercentage</th>\n",
       "      <th>Votes</th>\n",
       "      <th>Hondt</th>\n",
       "    </tr>\n",
       "  </thead>\n",
       "  <tbody>\n",
       "    <tr>\n",
       "      <th>0</th>\n",
       "      <td>-0.152941</td>\n",
       "      <td>2.3</td>\n",
       "      <td>0.078796</td>\n",
       "      <td>-0.127891</td>\n",
       "      <td>3.210250</td>\n",
       "      <td>3.217832</td>\n",
       "      <td>1.419284</td>\n",
       "      <td>14.757327</td>\n",
       "    </tr>\n",
       "    <tr>\n",
       "      <th>1</th>\n",
       "      <td>-0.152941</td>\n",
       "      <td>2.3</td>\n",
       "      <td>0.078796</td>\n",
       "      <td>-0.127891</td>\n",
       "      <td>2.727578</td>\n",
       "      <td>2.733495</td>\n",
       "      <td>1.211248</td>\n",
       "      <td>12.691673</td>\n",
       "    </tr>\n",
       "    <tr>\n",
       "      <th>2</th>\n",
       "      <td>-0.152941</td>\n",
       "      <td>2.3</td>\n",
       "      <td>0.078796</td>\n",
       "      <td>-0.127891</td>\n",
       "      <td>0.177415</td>\n",
       "      <td>0.178549</td>\n",
       "      <td>0.112293</td>\n",
       "      <td>2.363404</td>\n",
       "    </tr>\n",
       "    <tr>\n",
       "      <th>3</th>\n",
       "      <td>-0.152941</td>\n",
       "      <td>2.3</td>\n",
       "      <td>0.078796</td>\n",
       "      <td>-0.127891</td>\n",
       "      <td>-0.006598</td>\n",
       "      <td>-0.006179</td>\n",
       "      <td>0.032984</td>\n",
       "      <td>1.727818</td>\n",
       "    </tr>\n",
       "    <tr>\n",
       "      <th>4</th>\n",
       "      <td>-0.152941</td>\n",
       "      <td>2.3</td>\n",
       "      <td>0.078796</td>\n",
       "      <td>-0.127891</td>\n",
       "      <td>-0.036464</td>\n",
       "      <td>-0.034669</td>\n",
       "      <td>0.020460</td>\n",
       "      <td>1.568922</td>\n",
       "    </tr>\n",
       "  </tbody>\n",
       "</table>\n",
       "</div>"
      ],
      "text/plain": [
       "   blankVotesPercentage  nullVotesPercentage  pre.totalVoters  Mandates  \\\n",
       "0             -0.152941                  2.3         0.078796 -0.127891   \n",
       "1             -0.152941                  2.3         0.078796 -0.127891   \n",
       "2             -0.152941                  2.3         0.078796 -0.127891   \n",
       "3             -0.152941                  2.3         0.078796 -0.127891   \n",
       "4             -0.152941                  2.3         0.078796 -0.127891   \n",
       "\n",
       "   Percentage  validVotesPercentage     Votes      Hondt  \n",
       "0    3.210250              3.217832  1.419284  14.757327  \n",
       "1    2.727578              2.733495  1.211248  12.691673  \n",
       "2    0.177415              0.178549  0.112293   2.363404  \n",
       "3   -0.006598             -0.006179  0.032984   1.727818  \n",
       "4   -0.036464             -0.034669  0.020460   1.568922  "
      ]
     },
     "execution_count": 297,
     "metadata": {},
     "output_type": "execute_result"
    }
   ],
   "source": [
    "df1.head()"
   ]
  },
  {
   "cell_type": "code",
   "execution_count": 298,
   "id": "bd4a9630-3e3a-4f88-8915-2013e5473bd5",
   "metadata": {},
   "outputs": [],
   "source": [
    "y_pred4 = knn.predict(x1_test)"
   ]
  },
  {
   "cell_type": "code",
   "execution_count": 299,
   "id": "8f65f0fc-760a-4ec1-867e-173f0e63ff64",
   "metadata": {},
   "outputs": [
    {
     "data": {
      "text/plain": [
       "array([-0.1638618 , -0.1638618 , -0.08924243, ..., -0.1638618 ,\n",
       "       -0.1638618 , -0.1638618 ])"
      ]
     },
     "execution_count": 299,
     "metadata": {},
     "output_type": "execute_result"
    }
   ],
   "source": [
    "y_pred4"
   ]
  },
  {
   "cell_type": "code",
   "execution_count": 302,
   "id": "ce69463a-6097-467e-b300-b1821cbc02a7",
   "metadata": {},
   "outputs": [
    {
     "data": {
      "text/plain": [
       "7436    -0.163862\n",
       "16193   -0.163862\n",
       "18024   -0.018354\n",
       "7834    -0.163862\n",
       "17489   -0.163862\n",
       "           ...   \n",
       "20633   -0.163862\n",
       "11619   -0.163862\n",
       "1076    -0.163862\n",
       "355     -0.163862\n",
       "19749   -0.163862\n",
       "Name: FinalMandates, Length: 4329, dtype: float64"
      ]
     },
     "execution_count": 302,
     "metadata": {},
     "output_type": "execute_result"
    }
   ],
   "source": [
    "y1_test"
   ]
  },
  {
   "cell_type": "code",
   "execution_count": 303,
   "id": "f9fe400b-56ac-4e03-a6eb-a3a07b5d42ed",
   "metadata": {},
   "outputs": [
    {
     "data": {
      "text/plain": [
       "0.020558679479241174"
      ]
     },
     "execution_count": 303,
     "metadata": {},
     "output_type": "execute_result"
    }
   ],
   "source": [
    "mean_absolute_error(y1_test, y_pred4)"
   ]
  },
  {
   "cell_type": "code",
   "execution_count": 304,
   "id": "d0d111a5-ce11-49d2-8d2a-24e3a8461313",
   "metadata": {},
   "outputs": [
    {
     "data": {
      "text/plain": [
       "0.018963585061627222"
      ]
     },
     "execution_count": 304,
     "metadata": {},
     "output_type": "execute_result"
    }
   ],
   "source": [
    "mean_squared_error(y1_test, y_pred4)"
   ]
  },
  {
   "cell_type": "code",
   "execution_count": 305,
   "id": "06aa61f4-ce39-4ce7-8047-df05f744d06a",
   "metadata": {},
   "outputs": [
    {
     "name": "stdout",
     "output_type": "stream",
     "text": [
      "Requirement already satisfied: xgboost in c:\\users\\prasanjeet\\anaconda3\\lib\\site-packages (2.0.3)\n",
      "Requirement already satisfied: numpy in c:\\users\\prasanjeet\\anaconda3\\lib\\site-packages (from xgboost) (1.26.4)\n",
      "Requirement already satisfied: scipy in c:\\users\\prasanjeet\\anaconda3\\lib\\site-packages (from xgboost) (1.13.1)\n"
     ]
    }
   ],
   "source": [
    "!pip install xgboost"
   ]
  },
  {
   "cell_type": "code",
   "execution_count": 306,
   "id": "e625cc2d-acdc-4c9d-b94a-ebb9a7462b21",
   "metadata": {},
   "outputs": [],
   "source": [
    "from sklearn.ensemble import GradientBoostingRegressor\n",
    "from xgboost import XGBRegressor\n",
    "#importing GradientBoostingRegressor from sklearn.ensemble and XGBRegressor from xgboost, indicating a focus on advanced boosting methods for regression."
   ]
  },
  {
   "cell_type": "code",
   "execution_count": 307,
   "id": "81f9955c-98bc-4252-b812-7127ec0de52a",
   "metadata": {},
   "outputs": [],
   "source": [
    "XGB = XGBRegressor(random_state=25)"
   ]
  },
  {
   "cell_type": "code",
   "execution_count": 308,
   "id": "b67c2c1f-d177-459c-944b-3ba48f82bb16",
   "metadata": {},
   "outputs": [
    {
     "data": {
      "text/html": [
       "<style>#sk-container-id-10 {color: black;}#sk-container-id-10 pre{padding: 0;}#sk-container-id-10 div.sk-toggleable {background-color: white;}#sk-container-id-10 label.sk-toggleable__label {cursor: pointer;display: block;width: 100%;margin-bottom: 0;padding: 0.3em;box-sizing: border-box;text-align: center;}#sk-container-id-10 label.sk-toggleable__label-arrow:before {content: \"▸\";float: left;margin-right: 0.25em;color: #696969;}#sk-container-id-10 label.sk-toggleable__label-arrow:hover:before {color: black;}#sk-container-id-10 div.sk-estimator:hover label.sk-toggleable__label-arrow:before {color: black;}#sk-container-id-10 div.sk-toggleable__content {max-height: 0;max-width: 0;overflow: hidden;text-align: left;background-color: #f0f8ff;}#sk-container-id-10 div.sk-toggleable__content pre {margin: 0.2em;color: black;border-radius: 0.25em;background-color: #f0f8ff;}#sk-container-id-10 input.sk-toggleable__control:checked~div.sk-toggleable__content {max-height: 200px;max-width: 100%;overflow: auto;}#sk-container-id-10 input.sk-toggleable__control:checked~label.sk-toggleable__label-arrow:before {content: \"▾\";}#sk-container-id-10 div.sk-estimator input.sk-toggleable__control:checked~label.sk-toggleable__label {background-color: #d4ebff;}#sk-container-id-10 div.sk-label input.sk-toggleable__control:checked~label.sk-toggleable__label {background-color: #d4ebff;}#sk-container-id-10 input.sk-hidden--visually {border: 0;clip: rect(1px 1px 1px 1px);clip: rect(1px, 1px, 1px, 1px);height: 1px;margin: -1px;overflow: hidden;padding: 0;position: absolute;width: 1px;}#sk-container-id-10 div.sk-estimator {font-family: monospace;background-color: #f0f8ff;border: 1px dotted black;border-radius: 0.25em;box-sizing: border-box;margin-bottom: 0.5em;}#sk-container-id-10 div.sk-estimator:hover {background-color: #d4ebff;}#sk-container-id-10 div.sk-parallel-item::after {content: \"\";width: 100%;border-bottom: 1px solid gray;flex-grow: 1;}#sk-container-id-10 div.sk-label:hover label.sk-toggleable__label {background-color: #d4ebff;}#sk-container-id-10 div.sk-serial::before {content: \"\";position: absolute;border-left: 1px solid gray;box-sizing: border-box;top: 0;bottom: 0;left: 50%;z-index: 0;}#sk-container-id-10 div.sk-serial {display: flex;flex-direction: column;align-items: center;background-color: white;padding-right: 0.2em;padding-left: 0.2em;position: relative;}#sk-container-id-10 div.sk-item {position: relative;z-index: 1;}#sk-container-id-10 div.sk-parallel {display: flex;align-items: stretch;justify-content: center;background-color: white;position: relative;}#sk-container-id-10 div.sk-item::before, #sk-container-id-10 div.sk-parallel-item::before {content: \"\";position: absolute;border-left: 1px solid gray;box-sizing: border-box;top: 0;bottom: 0;left: 50%;z-index: -1;}#sk-container-id-10 div.sk-parallel-item {display: flex;flex-direction: column;z-index: 1;position: relative;background-color: white;}#sk-container-id-10 div.sk-parallel-item:first-child::after {align-self: flex-end;width: 50%;}#sk-container-id-10 div.sk-parallel-item:last-child::after {align-self: flex-start;width: 50%;}#sk-container-id-10 div.sk-parallel-item:only-child::after {width: 0;}#sk-container-id-10 div.sk-dashed-wrapped {border: 1px dashed gray;margin: 0 0.4em 0.5em 0.4em;box-sizing: border-box;padding-bottom: 0.4em;background-color: white;}#sk-container-id-10 div.sk-label label {font-family: monospace;font-weight: bold;display: inline-block;line-height: 1.2em;}#sk-container-id-10 div.sk-label-container {text-align: center;}#sk-container-id-10 div.sk-container {/* jupyter's `normalize.less` sets `[hidden] { display: none; }` but bootstrap.min.css set `[hidden] { display: none !important; }` so we also need the `!important` here to be able to override the default hidden behavior on the sphinx rendered scikit-learn.org. See: https://github.com/scikit-learn/scikit-learn/issues/21755 */display: inline-block !important;position: relative;}#sk-container-id-10 div.sk-text-repr-fallback {display: none;}</style><div id=\"sk-container-id-10\" class=\"sk-top-container\"><div class=\"sk-text-repr-fallback\"><pre>XGBRegressor(base_score=None, booster=None, callbacks=None,\n",
       "             colsample_bylevel=None, colsample_bynode=None,\n",
       "             colsample_bytree=None, device=None, early_stopping_rounds=None,\n",
       "             enable_categorical=False, eval_metric=None, feature_types=None,\n",
       "             gamma=None, grow_policy=None, importance_type=None,\n",
       "             interaction_constraints=None, learning_rate=None, max_bin=None,\n",
       "             max_cat_threshold=None, max_cat_to_onehot=None,\n",
       "             max_delta_step=None, max_depth=None, max_leaves=None,\n",
       "             min_child_weight=None, missing=nan, monotone_constraints=None,\n",
       "             multi_strategy=None, n_estimators=None, n_jobs=None,\n",
       "             num_parallel_tree=None, random_state=25, ...)</pre><b>In a Jupyter environment, please rerun this cell to show the HTML representation or trust the notebook. <br />On GitHub, the HTML representation is unable to render, please try loading this page with nbviewer.org.</b></div><div class=\"sk-container\" hidden><div class=\"sk-item\"><div class=\"sk-estimator sk-toggleable\"><input class=\"sk-toggleable__control sk-hidden--visually\" id=\"sk-estimator-id-10\" type=\"checkbox\" checked><label for=\"sk-estimator-id-10\" class=\"sk-toggleable__label sk-toggleable__label-arrow\">XGBRegressor</label><div class=\"sk-toggleable__content\"><pre>XGBRegressor(base_score=None, booster=None, callbacks=None,\n",
       "             colsample_bylevel=None, colsample_bynode=None,\n",
       "             colsample_bytree=None, device=None, early_stopping_rounds=None,\n",
       "             enable_categorical=False, eval_metric=None, feature_types=None,\n",
       "             gamma=None, grow_policy=None, importance_type=None,\n",
       "             interaction_constraints=None, learning_rate=None, max_bin=None,\n",
       "             max_cat_threshold=None, max_cat_to_onehot=None,\n",
       "             max_delta_step=None, max_depth=None, max_leaves=None,\n",
       "             min_child_weight=None, missing=nan, monotone_constraints=None,\n",
       "             multi_strategy=None, n_estimators=None, n_jobs=None,\n",
       "             num_parallel_tree=None, random_state=25, ...)</pre></div></div></div></div></div>"
      ],
      "text/plain": [
       "XGBRegressor(base_score=None, booster=None, callbacks=None,\n",
       "             colsample_bylevel=None, colsample_bynode=None,\n",
       "             colsample_bytree=None, device=None, early_stopping_rounds=None,\n",
       "             enable_categorical=False, eval_metric=None, feature_types=None,\n",
       "             gamma=None, grow_policy=None, importance_type=None,\n",
       "             interaction_constraints=None, learning_rate=None, max_bin=None,\n",
       "             max_cat_threshold=None, max_cat_to_onehot=None,\n",
       "             max_delta_step=None, max_depth=None, max_leaves=None,\n",
       "             min_child_weight=None, missing=nan, monotone_constraints=None,\n",
       "             multi_strategy=None, n_estimators=None, n_jobs=None,\n",
       "             num_parallel_tree=None, random_state=25, ...)"
      ]
     },
     "execution_count": 308,
     "metadata": {},
     "output_type": "execute_result"
    }
   ],
   "source": [
    "XGB.fit(x1_train, y1_train)"
   ]
  },
  {
   "cell_type": "code",
   "execution_count": 309,
   "id": "91789f3b-8b87-4f04-b3ec-68c370f0e4f4",
   "metadata": {},
   "outputs": [],
   "source": [
    "y_pred3= XGB.predict(x1_test)"
   ]
  },
  {
   "cell_type": "code",
   "execution_count": 310,
   "id": "2144f493-2a87-49d5-b81d-aff87f38e446",
   "metadata": {},
   "outputs": [
    {
     "data": {
      "text/plain": [
       "array([-0.16386025, -0.16403863, -0.0184637 , ..., -0.16423772,\n",
       "       -0.163114  , -0.16389067], dtype=float32)"
      ]
     },
     "execution_count": 310,
     "metadata": {},
     "output_type": "execute_result"
    }
   ],
   "source": [
    "y_pred3"
   ]
  },
  {
   "cell_type": "code",
   "execution_count": 311,
   "id": "148334df-f5d3-4aae-be56-5562d0d70472",
   "metadata": {},
   "outputs": [
    {
     "data": {
      "text/plain": [
       "7436    -0.163862\n",
       "16193   -0.163862\n",
       "18024   -0.018354\n",
       "7834    -0.163862\n",
       "17489   -0.163862\n",
       "           ...   \n",
       "20633   -0.163862\n",
       "11619   -0.163862\n",
       "1076    -0.163862\n",
       "355     -0.163862\n",
       "19749   -0.163862\n",
       "Name: FinalMandates, Length: 4329, dtype: float64"
      ]
     },
     "execution_count": 311,
     "metadata": {},
     "output_type": "execute_result"
    }
   ],
   "source": [
    "y1_test"
   ]
  },
  {
   "cell_type": "code",
   "execution_count": 315,
   "id": "04c75fe0-3f80-4681-afa8-326a636d58aa",
   "metadata": {},
   "outputs": [
    {
     "data": {
      "text/plain": [
       "0.0019451013582592253"
      ]
     },
     "execution_count": 315,
     "metadata": {},
     "output_type": "execute_result"
    }
   ],
   "source": [
    "mean_absolute_error(y1_test, y_pred3)"
   ]
  },
  {
   "cell_type": "code",
   "execution_count": 321,
   "id": "238de9df-e155-4735-baf7-030d0e757817",
   "metadata": {},
   "outputs": [
    {
     "data": {
      "text/plain": [
       "0.0003428357545236465"
      ]
     },
     "execution_count": 321,
     "metadata": {},
     "output_type": "execute_result"
    }
   ],
   "source": [
    "mean_squared_error(y1_test, y_pred3)"
   ]
  },
  {
   "cell_type": "code",
   "execution_count": 322,
   "id": "547638c1-fd02-42fa-a0f4-c034c481660b",
   "metadata": {},
   "outputs": [],
   "source": [
    "estimators = []\n",
    "estimators.append((\"Decision Tree\", DecisionTreeRegressor()))\n",
    "estimators.append((\"Random Forest\", RandomForestRegressor()))\n",
    "estimators.append((\"XGB\", XGBRegressor()))\n",
    "estimators.append((\"KNearest Neighbours\", KNeighborsRegressor()))"
   ]
  },
  {
   "cell_type": "code",
   "execution_count": 323,
   "id": "f1897003-0446-4f6e-b0fd-b74fd3562c86",
   "metadata": {},
   "outputs": [
    {
     "name": "stdout",
     "output_type": "stream",
     "text": [
      "\n",
      "Stacking Regressor training mean_squared_error: 0.00\n",
      "Stacking Regressor test mean_squared_error: 0.00\n",
      "Stacking Regressor test R^2 score: 1.00\n"
     ]
    }
   ],
   "source": [
    "from sklearn.ensemble import StackingRegressor\n",
    "SR = StackingRegressor(estimators=estimators, final_estimator=RandomForestRegressor())\n",
    "SR.fit(x1_train, y1_train)\n",
    "y_pred5 = SR.predict(x1_test)\n",
    "\n",
    "from sklearn.metrics import mean_squared_error\n",
    "\n",
    "print(f\"\\nStacking Regressor training mean_squared_error: {mean_squared_error(y1_train, SR.predict(x1_train)):0.2f}\")\n",
    "print(f\"Stacking Regressor test mean_squared_error: {mean_squared_error(y1_test, y_pred5):0.2f}\")\n",
    "print(f\"Stacking Regressor test R^2 score: {SR.score(x1_test, y1_test):0.2f}\")"
   ]
  },
  {
   "cell_type": "code",
   "execution_count": null,
   "id": "431aef2d-116b-4958-a887-7e375e4f21d0",
   "metadata": {},
   "outputs": [],
   "source": [
    "#StackingRegressor from sklearn.ensemble to combine multiple regression models into a single, more robust model. \n",
    "#By fitting the StackingRegressor with a set of base estimators and a RandomForestRegressor as the final estimator, \n",
    "#it leverages the strengths of various models and aggregates their predictions to improve accuracy."
   ]
  },
  {
   "cell_type": "code",
   "execution_count": 324,
   "id": "8e3b9f1d-c7cb-4578-9f1e-124599644b4d",
   "metadata": {},
   "outputs": [
    {
     "data": {
      "text/plain": [
       "0.9999801292908774"
      ]
     },
     "execution_count": 324,
     "metadata": {},
     "output_type": "execute_result"
    }
   ],
   "source": [
    "SR.score(x1_train, y1_train)"
   ]
  },
  {
   "cell_type": "code",
   "execution_count": 325,
   "id": "478d1643-1ccf-4a2b-8115-c6fa8f26804d",
   "metadata": {},
   "outputs": [],
   "source": [
    "new_data = pd.read_csv(\"D://Machine learning//Group assignment//New Data.csv\") #importing new data"
   ]
  },
  {
   "cell_type": "code",
   "execution_count": null,
   "id": "ca007a2b-adb2-4ea6-8bd6-f4d1509856cc",
   "metadata": {},
   "outputs": [],
   "source": [
    "#Evaluating a machine learning model on new data after training is essential to ensure it generalizes well to unseen scenarios, \n",
    "#rather than just memorizing the training data."
   ]
  },
  {
   "cell_type": "code",
   "execution_count": 326,
   "id": "388f8bc7-d159-491c-b4f1-cf6f647a4e05",
   "metadata": {},
   "outputs": [
    {
     "data": {
      "text/html": [
       "<div>\n",
       "<style scoped>\n",
       "    .dataframe tbody tr th:only-of-type {\n",
       "        vertical-align: middle;\n",
       "    }\n",
       "\n",
       "    .dataframe tbody tr th {\n",
       "        vertical-align: top;\n",
       "    }\n",
       "\n",
       "    .dataframe thead th {\n",
       "        text-align: right;\n",
       "    }\n",
       "</style>\n",
       "<table border=\"1\" class=\"dataframe\">\n",
       "  <thead>\n",
       "    <tr style=\"text-align: right;\">\n",
       "      <th></th>\n",
       "      <th>blankVotesPercentage</th>\n",
       "      <th>nullVotesPercentage</th>\n",
       "      <th>pre.totalVoters</th>\n",
       "      <th>Mandates</th>\n",
       "      <th>Percentage</th>\n",
       "      <th>validVotesPercentage</th>\n",
       "      <th>Votes</th>\n",
       "      <th>Hondt</th>\n",
       "    </tr>\n",
       "  </thead>\n",
       "  <tbody>\n",
       "    <tr>\n",
       "      <th>0</th>\n",
       "      <td>2.50</td>\n",
       "      <td>2.30</td>\n",
       "      <td>428546</td>\n",
       "      <td>0</td>\n",
       "      <td>0.66</td>\n",
       "      <td>0.70</td>\n",
       "      <td>2567</td>\n",
       "      <td>1</td>\n",
       "    </tr>\n",
       "    <tr>\n",
       "      <th>1</th>\n",
       "      <td>2.54</td>\n",
       "      <td>1.74</td>\n",
       "      <td>5380451</td>\n",
       "      <td>5</td>\n",
       "      <td>4.25</td>\n",
       "      <td>4.44</td>\n",
       "      <td>216448</td>\n",
       "      <td>10</td>\n",
       "    </tr>\n",
       "  </tbody>\n",
       "</table>\n",
       "</div>"
      ],
      "text/plain": [
       "   blankVotesPercentage  nullVotesPercentage  pre.totalVoters  Mandates  \\\n",
       "0                  2.50                 2.30           428546         0   \n",
       "1                  2.54                 1.74          5380451         5   \n",
       "\n",
       "   Percentage  validVotesPercentage   Votes  Hondt  \n",
       "0        0.66                  0.70    2567      1  \n",
       "1        4.25                  4.44  216448     10  "
      ]
     },
     "execution_count": 326,
     "metadata": {},
     "output_type": "execute_result"
    }
   ],
   "source": [
    "new_data"
   ]
  },
  {
   "cell_type": "code",
   "execution_count": 327,
   "id": "383ad94d-e106-414c-8e57-dd3fc08ef271",
   "metadata": {},
   "outputs": [
    {
     "data": {
      "text/plain": [
       "array([ 0.85469261, 15.25996213])"
      ]
     },
     "execution_count": 327,
     "metadata": {},
     "output_type": "execute_result"
    }
   ],
   "source": [
    "dt1.predict(new_data)"
   ]
  },
  {
   "cell_type": "code",
   "execution_count": 328,
   "id": "953fcab2-98e2-4a0a-a24d-f2af7bdb75c2",
   "metadata": {},
   "outputs": [
    {
     "data": {
      "text/plain": [
       "array([ 0.74265162, 13.9940445 ])"
      ]
     },
     "execution_count": 328,
     "metadata": {},
     "output_type": "execute_result"
    }
   ],
   "source": [
    "clf1.predict(new_data)"
   ]
  },
  {
   "cell_type": "code",
   "execution_count": 329,
   "id": "d5cd4f75-4bfb-4496-b57b-d9c2c53fa590",
   "metadata": {},
   "outputs": [
    {
     "data": {
      "text/plain": [
       "array([0.65512764, 2.2739358 ], dtype=float32)"
      ]
     },
     "execution_count": 329,
     "metadata": {},
     "output_type": "execute_result"
    }
   ],
   "source": [
    "XGB.predict(new_data)"
   ]
  },
  {
   "cell_type": "code",
   "execution_count": 330,
   "id": "bf7c1b0c-1dd1-4101-a1d0-1f7751e0bef6",
   "metadata": {},
   "outputs": [
    {
     "data": {
      "text/plain": [
       "array([ 5.5631749 , 11.23051611])"
      ]
     },
     "execution_count": 330,
     "metadata": {},
     "output_type": "execute_result"
    }
   ],
   "source": [
    "knn.predict(new_data)"
   ]
  },
  {
   "cell_type": "code",
   "execution_count": 334,
   "id": "2f32faab-29e4-4d8c-ad22-4fe5d5832721",
   "metadata": {},
   "outputs": [
    {
     "data": {
      "text/plain": [
       "array([ 4.16499444, 13.9940445 ])"
      ]
     },
     "execution_count": 334,
     "metadata": {},
     "output_type": "execute_result"
    }
   ],
   "source": [
    "SR.predict(new_data)"
   ]
  },
  {
   "cell_type": "markdown",
   "id": "4bc708bd-074c-4842-8413-856c19ab9ff0",
   "metadata": {},
   "source": [
    "# Conclusion:\n",
    "Despite the RandomForestRegressor having the lowest Mean Absolute Error (MAE) and Mean Squared Error (MSE) values among the models the results suggest that it may not be the most appropriate model for this specific task. A closer examination of the errors reveals that while RandomForestRegressor shows minimal errors, it could be overfitting the data leading to overly optimistic error metrics that might not generalize well to unseen data.\n",
    "\n",
    "The XGBRegressor presents a more balanced performance with slightly higher MAE and MSE values compared to RandomForestRegressor, but it likely provides a more generalizable and robust prediction. The KNNRegressor, with its significantly higher error metrics, is the least accurate and reliable model for this task. Given this context, the XGBRegressor is likely the better choice overall, offering a compromise between accuracy and generalization. It avoids the potential overfitting seen with RandomForestRegressor, making it a more dependable model for predicting the final number of mandates."
   ]
  }
 ],
 "metadata": {
  "kernelspec": {
   "display_name": "Python 3 (ipykernel)",
   "language": "python",
   "name": "python3"
  },
  "language_info": {
   "codemirror_mode": {
    "name": "ipython",
    "version": 3
   },
   "file_extension": ".py",
   "mimetype": "text/x-python",
   "name": "python",
   "nbconvert_exporter": "python",
   "pygments_lexer": "ipython3",
   "version": "3.12.4"
  }
 },
 "nbformat": 4,
 "nbformat_minor": 5
}
